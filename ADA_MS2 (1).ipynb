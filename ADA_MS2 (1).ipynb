{
 "cells":[
  {
   "cell_type":"markdown",
   "source":[
    "# Project Milestone 2"
   ],
   "attachments":{
    
   },
   "metadata":{
    "datalore":{
     "node_id":"oBR0m5AnOjs4QKad5WUcil",
     "type":"MD",
     "hide_input_from_viewers":false,
     "hide_output_from_viewers":false,
     "report_properties":{
      
     }
    }
   }
  },
  {
   "cell_type":"markdown",
   "source":[
    "## How we store and manage the data\n",
    "\n",
    "## Why do we need a database and where to run it?\n",
    "\n",
    "When we looked at this dataset, we saw that it would fit very well in a traditional relational database, so we explored this option because leveraging SQL to extract information from the dataset should help us achieve our goals more efficiently.\n",
    "\n",
    "Several members of the team had also not access to a computer powerful enough and with enough disk space to work efficiently, so we use an old compute server from the CERN we have. They phase out old hardware from time to time and if you're lucky you can buy cheap old but still powerful hardware. The one we use is a high density compute server from 2014 with four nodes each having 64Gb of ram \/ 24 cores \/ 2x 2TB hard drives we got for 50 frs. We only use one node because SQL databases usually don't or are hard to cluster, electricity isn't free (but still cheap in our case), we don't have the required switch and cables to build a performant cluster network as standard 1 Gbit Ethernet would probably be a bottleneck and we wanted to store the database on a 512GB NVME ssd that was unused after an upgrade. On the node, we installed proxmox using ZFS for the storage and we run the database inside a container. This has two main advantages:\n",
    "- ZFS compress partially empty database pages using lz4, we saw disk space saving of up to 40% between the size of a table reported by postgres and its actual size on disk. Furthermore this compression is lightweight in term of CPU usage.\n",
    "- The ability to make almost free snapshots of the database after the initial data import and pre-processing. If something goes wrong we can go back to a previous known good state because ZFS stores modifications after a snapshot as a diff, so in our case the snapshots are almost free because we query the dataset without modifying it.\n",
    "\n",
    "## Database choice and configuration\n",
    "We first went with mariadb because this is what we knew best and phpMyAdmin is a nice tool to explore the dataset and run queries but as we loaded the first part of the dataset, we noticed that mariadb didn't make use of more than one core per query. This is because its engine InnoDB is optimised for web applications that execute many small (1000s of rows) queries so we went with postgres that uses parallel query plans when possible. The installation was relatively straightforward but we had a lot of trouble to find a good tool to query the database and explore the dataset. We finally went with datagrip from jetbrains because it was easy to use for us and fast.\n",
    "\n",
    "We used [pgtune](https:\/\/pgtune.leopard.in.ua\/) as a starting point to tune postgres for a data wharehouse usage. This, among other things, tells postgres how many workers it can create to answer queries, the cost of getting data from the disk (huge difference between ssd and hdd) and how much data should be expected to fit in ram.\n",
    "\n",
    "## Data import\n",
    "To load the data in the database, we first created one table per csv file with the smallest correct data types (float32, int32 or int64 for numbers, varchar(11) for video_id...) for each column and then used pandas with an SQL connector that read the data in chunks and put it as is in the DB.\n",
    "\n",
    "For the tags of the file `video_metadata` we created two extra tables: one table for the tags that contains tuples `(tag_id, tag)` and the second that contains tuples `(tag_id, video_id)` to be able to query the tags efficiently. Tags are not repeated in the tags table, to do so during import we mapped the tags to an ID using a hashmap. With postgres we could have stored the tags as an array but this would have made queries like how often is a tag used much less efficient.\n",
    "\n",
    "### Post import optimisations\n",
    "\n",
    "We created indexes for all columns that can uniquely identify a row (eg. `video_id`) or select all rows that belong to a group (eg. `channel_id` in `video_metatdata`). We used btree indexes because of the deduplication feature available since postgres 13: each value that appears multiple times will only be stored once ([further reading](https:\/\/mydbops.wordpress.com\/2020\/09\/25\/deduplication-of-b-tree-indexes-in-postgresql-13\/)). We tried to create hash indexes on columns with high cardinality (performance is terrible if most rows map to the same hash bucket), for example `video_id` in `video_metadata`, but the index creation is single threaded which made it excruciatingly long, so we used btree indexes everywhere. This is the recommended default for postgres.\n",
    "\n",
    "For the video categories (Gaming, News & Politics...) we created an enum because there are only 17 categories and an enum uses only four bytes which is much less than copying the category text for each row. This also leads to more efficient indexes.\n",
    "\n",
    "\n",
    "## Leveraging postgres\n",
    "We created two tables `channel_id_in_description` and `video_id_in_description` by running queries that matched regexes on channel IDs and video IDs respectively in all the descriptions of the videos in the `video_metadata` table to find links between channels. This was much faster and easier than doing it in an other program because the data didn't have to be serialised to be transfered and postgres parallelized each query using 9 cores automatically. The queries are available in the `queries_create_derivated_tables.sql` in the root of our github repo.\n",
    "\n",
    "We can also calculate standard deviation, average, mean directly in the database if needed.\n",
    "\n",
    "## Issues\n",
    "\n",
    "Python notebook can only run one cell at a time and the server can run at least two big queries in parallel. We could create subprocesses for queries but this comes with other pain points."
   ],
   "attachments":{
    
   },
   "metadata":{
    "datalore":{
     "node_id":"qkIkpl2mh2VCy2f53dt39j",
     "type":"MD",
     "hide_input_from_viewers":false,
     "hide_output_from_viewers":false,
     "report_properties":{
      
     }
    }
   }
  },
  {
   "cell_type":"markdown",
   "source":[
    "## Pre-processing and database communication setup"
   ],
   "attachments":{
    
   },
   "metadata":{
    "datalore":{
     "node_id":"JbK9jFjKr5K8aQxVE6bWSw",
     "type":"MD",
     "hide_input_from_viewers":false,
     "hide_output_from_viewers":false,
     "report_properties":{
      
     }
    }
   }
  },
  {
   "cell_type":"markdown",
   "source":[
    "### Imports"
   ],
   "attachments":{
    
   },
   "metadata":{
    "datalore":{
     "node_id":"nPLfakRozaRXHIrSf8ByGd",
     "type":"MD",
     "hide_input_from_viewers":true,
     "hide_output_from_viewers":true
    }
   }
  },
  {
   "cell_type":"code",
   "source":[
    "from sshtunnel import SSHTunnelForwarder # server communication\n",
    "import psycopg2 # server connexion\n",
    "import pandas as pd # dataframes\n",
    "import matplotlib.pyplot as plt # graphs & visualizations"
   ],
   "execution_count":1,
   "outputs":[
    
   ],
   "metadata":{
    "datalore":{
     "node_id":"b57hxc9nozfIjojy1vv6Ry",
     "type":"CODE",
     "hide_input_from_viewers":true,
     "hide_output_from_viewers":true
    }
   }
  },
  {
   "cell_type":"markdown",
   "source":[
    "### Database communication"
   ],
   "attachments":{
    
   },
   "metadata":{
    "datalore":{
     "node_id":"zQ92EzcoJnHQ8JFufuCmtx",
     "type":"MD",
     "hide_input_from_viewers":true,
     "hide_output_from_viewers":true
    }
   }
  },
  {
   "cell_type":"code",
   "source":[
    "server = SSHTunnelForwarder(\n",
    "    ('ada-server.icefo.net',1022),\n",
    "    ssh_username=\"datalore\",\n",
    "    ssh_password= # If rerun needed we can email yout the password,\n",
    "    remote_bind_address=('localhost', 5433),\n",
    "    local_bind_address=('localhost', 5433)\n",
    ")\n",
    "\n",
    "server.start()"
   ],
   "execution_count":2,
   "outputs":[
    
   ],
   "metadata":{
    "datalore":{
     "node_id":"XBbD7Q3MbAkQGPFYd85Myx",
     "type":"CODE",
     "hide_input_from_viewers":true,
     "hide_output_from_viewers":true
    }
   }
  },
  {
   "cell_type":"code",
   "source":[
    "conn = psycopg2.connect(\n",
    "    host=\"localhost\",\n",
    "    database=\"ada\",\n",
    "    user=\"datalore\",  # Read only user\n",
    "    password=\"DummyPasswd\",\n",
    "    port=5433)\n",
    "\n",
    "# create a cursor\n",
    "cur = conn.cursor()"
   ],
   "execution_count":3,
   "outputs":[
    
   ],
   "metadata":{
    "datalore":{
     "node_id":"H1ATxJWGlVq2uqk7Lve9LA",
     "type":"CODE",
     "hide_input_from_viewers":true,
     "hide_output_from_viewers":true
    }
   }
  },
  {
   "cell_type":"markdown",
   "source":[
    "## Basic statistics"
   ],
   "attachments":{
    
   },
   "metadata":{
    "datalore":{
     "node_id":"ywZbulkEuVSNO4FXPuOTND",
     "type":"MD",
     "hide_input_from_viewers":true,
     "hide_output_from_viewers":true
    }
   }
  },
  {
   "cell_type":"markdown",
   "source":[
    "### Channel statistics"
   ],
   "attachments":{
    
   },
   "metadata":{
    "datalore":{
     "node_id":"96249pCDUcV8L8UV839cbZ",
     "type":"MD",
     "hide_input_from_viewers":false,
     "hide_output_from_viewers":false,
     "report_properties":{
      
     }
    }
   }
  },
  {
   "cell_type":"markdown",
   "source":[
    "#### Queries & computations"
   ],
   "attachments":{
    
   },
   "metadata":{
    "datalore":{
     "node_id":"IZzxPzznM0NDz1pF1S6EUE",
     "type":"MD",
     "hide_input_from_viewers":false,
     "hide_output_from_viewers":false,
     "report_properties":{
      
     }
    }
   }
  },
  {
   "cell_type":"code",
   "source":[
    "query_channel_cnt = \"select COUNT(channel) from df_channels_en;\"\n",
    "channel_cnt = pd.read_sql_query(query_channel_cnt,con= conn)\n",
    "channel_cnt"
   ],
   "execution_count":5,
   "outputs":[
    {
     "data":{
      "text\/html":[
       "<div>\n",
       "<style scoped>\n",
       "    .dataframe tbody tr th:only-of-type {\n",
       "        vertical-align: middle;\n",
       "    }\n",
       "\n",
       "    .dataframe tbody tr th {\n",
       "        vertical-align: top;\n",
       "    }\n",
       "\n",
       "    .dataframe thead th {\n",
       "        text-align: right;\n",
       "    }\n",
       "<\/style>\n",
       "<table border=\"1\" class=\"dataframe\">\n",
       "  <thead>\n",
       "    <tr style=\"text-align: right;\">\n",
       "      <th><\/th>\n",
       "      <th>count<\/th>\n",
       "    <\/tr>\n",
       "  <\/thead>\n",
       "  <tbody>\n",
       "    <tr>\n",
       "      <th>0<\/th>\n",
       "      <td>136470<\/td>\n",
       "    <\/tr>\n",
       "  <\/tbody>\n",
       "<\/table>\n",
       "<\/div>"
      ]
     },
     "metadata":{
      
     },
     "output_type":"display_data"
    }
   ],
   "metadata":{
    "datalore":{
     "node_id":"zZMcDa2Cww0fYvDYlOcVIU",
     "type":"CODE",
     "hide_input_from_viewers":true,
     "hide_output_from_viewers":true
    }
   }
  },
  {
   "cell_type":"code",
   "source":[
    "query_categories = \"SELECT unnest(enum_range(NULL::video_category));\"\n",
    "categories = pd.read_sql_query(query_categories,con= conn)\n",
    "categories"
   ],
   "execution_count":12,
   "outputs":[
    {
     "data":{
      "text\/plain":[
       "['Comedy',\n",
       " 'Education',\n",
       " 'Entertainment',\n",
       " 'Film and Animation',\n",
       " 'Gaming',\n",
       " 'Howto & Style',\n",
       " 'Music',\n",
       " 'News & Politics',\n",
       " 'Nonprofits & Activism',\n",
       " 'People & Blogs',\n",
       " 'Pets & Animals',\n",
       " 'Science & Technology',\n",
       " 'Sports',\n",
       " 'Travel & Events',\n",
       " 'Autos & Vehicles',\n",
       " 'Movies',\n",
       " 'Shows']"
      ]
     },
     "metadata":{
      
     },
     "output_type":"display_data"
    }
   ],
   "metadata":{
    "datalore":{
     "node_id":"mykiXYaUICDfttKeZdtLFF",
     "type":"CODE",
     "hide_input_from_viewers":true,
     "hide_output_from_viewers":true
    }
   }
  },
  {
   "cell_type":"code",
   "source":[
    "query_gaming_channel_cnt = \"select count(channel) from df_channels_en  where category_e = 'Gaming';\"\n",
    "gaming_channel_cnt = pd.read_sql_query(query_gaming_channel_cnt,con=conn)\n",
    "gaming_channel_cnt"
   ],
   "execution_count":41,
   "outputs":[
    {
     "data":{
      "text\/html":[
       "<div>\n",
       "<style scoped>\n",
       "    .dataframe tbody tr th:only-of-type {\n",
       "        vertical-align: middle;\n",
       "    }\n",
       "\n",
       "    .dataframe tbody tr th {\n",
       "        vertical-align: top;\n",
       "    }\n",
       "\n",
       "    .dataframe thead th {\n",
       "        text-align: right;\n",
       "    }\n",
       "<\/style>\n",
       "<table border=\"1\" class=\"dataframe\">\n",
       "  <thead>\n",
       "    <tr style=\"text-align: right;\">\n",
       "      <th><\/th>\n",
       "      <th>count<\/th>\n",
       "    <\/tr>\n",
       "  <\/thead>\n",
       "  <tbody>\n",
       "    <tr>\n",
       "      <th>0<\/th>\n",
       "      <td>20143<\/td>\n",
       "    <\/tr>\n",
       "  <\/tbody>\n",
       "<\/table>\n",
       "<\/div>"
      ]
     },
     "metadata":{
      
     },
     "output_type":"display_data"
    }
   ],
   "metadata":{
    "datalore":{
     "node_id":"LzVmYfPOGizU3IsMtXwX3L",
     "type":"CODE",
     "hide_input_from_viewers":true,
     "hide_output_from_viewers":true
    }
   }
  },
  {
   "cell_type":"code",
   "source":[
    "query_politics_channel_cnt = \"select count(channel) from df_channels_en  where category_e = 'News & Politics';\"\n",
    "politics_channel_cnt = pd.read_sql_query(query_politics_channel_cnt,con=conn)\n",
    "politics_channel_cnt"
   ],
   "execution_count":42,
   "outputs":[
    {
     "data":{
      "text\/html":[
       "<div>\n",
       "<style scoped>\n",
       "    .dataframe tbody tr th:only-of-type {\n",
       "        vertical-align: middle;\n",
       "    }\n",
       "\n",
       "    .dataframe tbody tr th {\n",
       "        vertical-align: top;\n",
       "    }\n",
       "\n",
       "    .dataframe thead th {\n",
       "        text-align: right;\n",
       "    }\n",
       "<\/style>\n",
       "<table border=\"1\" class=\"dataframe\">\n",
       "  <thead>\n",
       "    <tr style=\"text-align: right;\">\n",
       "      <th><\/th>\n",
       "      <th>count<\/th>\n",
       "    <\/tr>\n",
       "  <\/thead>\n",
       "  <tbody>\n",
       "    <tr>\n",
       "      <th>0<\/th>\n",
       "      <td>2263<\/td>\n",
       "    <\/tr>\n",
       "  <\/tbody>\n",
       "<\/table>\n",
       "<\/div>"
      ]
     },
     "metadata":{
      
     },
     "output_type":"display_data"
    }
   ],
   "metadata":{
    "datalore":{
     "node_id":"ChDWKGyX1mltOti3VgBVEI",
     "type":"CODE",
     "hide_input_from_viewers":true,
     "hide_output_from_viewers":true
    }
   }
  },
  {
   "cell_type":"code",
   "source":[
    "query_chan_per_cat = \"select category_e, count(channel) from df_channels_en group by category_e order by count(channel) desc\"\n",
    "chan_per_cat = pd.read_sql_query(query_chan_per_cat,con=conn)\n",
    "chan_per_cat"
   ],
   "execution_count":43,
   "outputs":[
    {
     "data":{
      "text\/html":[
       "<div>\n",
       "<style scoped>\n",
       "    .dataframe tbody tr th:only-of-type {\n",
       "        vertical-align: middle;\n",
       "    }\n",
       "\n",
       "    .dataframe tbody tr th {\n",
       "        vertical-align: top;\n",
       "    }\n",
       "\n",
       "    .dataframe thead th {\n",
       "        text-align: right;\n",
       "    }\n",
       "<\/style>\n",
       "<table border=\"1\" class=\"dataframe\">\n",
       "  <thead>\n",
       "    <tr style=\"text-align: right;\">\n",
       "      <th><\/th>\n",
       "      <th>category_e<\/th>\n",
       "      <th>count<\/th>\n",
       "    <\/tr>\n",
       "  <\/thead>\n",
       "  <tbody>\n",
       "    <tr>\n",
       "      <th>0<\/th>\n",
       "      <td>Music<\/td>\n",
       "      <td>24285<\/td>\n",
       "    <\/tr>\n",
       "    <tr>\n",
       "      <th>1<\/th>\n",
       "      <td>Entertainment<\/td>\n",
       "      <td>22951<\/td>\n",
       "    <\/tr>\n",
       "    <tr>\n",
       "      <th>2<\/th>\n",
       "      <td>Gaming<\/td>\n",
       "      <td>20143<\/td>\n",
       "    <\/tr>\n",
       "    <tr>\n",
       "      <th>3<\/th>\n",
       "      <td>People &amp; Blogs<\/td>\n",
       "      <td>18413<\/td>\n",
       "    <\/tr>\n",
       "    <tr>\n",
       "      <th>4<\/th>\n",
       "      <td>Howto &amp; Style<\/td>\n",
       "      <td>11875<\/td>\n",
       "    <\/tr>\n",
       "    <tr>\n",
       "      <th>5<\/th>\n",
       "      <td>Education<\/td>\n",
       "      <td>7803<\/td>\n",
       "    <\/tr>\n",
       "    <tr>\n",
       "      <th>6<\/th>\n",
       "      <td>Film and Animation<\/td>\n",
       "      <td>6875<\/td>\n",
       "    <\/tr>\n",
       "    <tr>\n",
       "      <th>7<\/th>\n",
       "      <td>Sports<\/td>\n",
       "      <td>5148<\/td>\n",
       "    <\/tr>\n",
       "    <tr>\n",
       "      <th>8<\/th>\n",
       "      <td>Science &amp; Technology<\/td>\n",
       "      <td>4864<\/td>\n",
       "    <\/tr>\n",
       "    <tr>\n",
       "      <th>9<\/th>\n",
       "      <td>Comedy<\/td>\n",
       "      <td>3767<\/td>\n",
       "    <\/tr>\n",
       "    <tr>\n",
       "      <th>10<\/th>\n",
       "      <td>Autos &amp; Vehicles<\/td>\n",
       "      <td>3705<\/td>\n",
       "    <\/tr>\n",
       "    <tr>\n",
       "      <th>11<\/th>\n",
       "      <td>News &amp; Politics<\/td>\n",
       "      <td>2263<\/td>\n",
       "    <\/tr>\n",
       "    <tr>\n",
       "      <th>12<\/th>\n",
       "      <td>Travel &amp; Events<\/td>\n",
       "      <td>1989<\/td>\n",
       "    <\/tr>\n",
       "    <tr>\n",
       "      <th>13<\/th>\n",
       "      <td>Pets &amp; Animals<\/td>\n",
       "      <td>1292<\/td>\n",
       "    <\/tr>\n",
       "    <tr>\n",
       "      <th>14<\/th>\n",
       "      <td>Nonprofits &amp; Activism<\/td>\n",
       "      <td>969<\/td>\n",
       "    <\/tr>\n",
       "    <tr>\n",
       "      <th>15<\/th>\n",
       "      <td>None<\/td>\n",
       "      <td>128<\/td>\n",
       "    <\/tr>\n",
       "  <\/tbody>\n",
       "<\/table>\n",
       "<\/div>"
      ]
     },
     "metadata":{
      
     },
     "output_type":"display_data"
    }
   ],
   "metadata":{
    "datalore":{
     "node_id":"goO8HqdkWLHKkNP2hy7Y3f",
     "type":"CODE",
     "hide_input_from_viewers":true,
     "hide_output_from_viewers":true
    }
   }
  },
  {
   "cell_type":"code",
   "source":[
    "# variables computation from dataframe\n",
    "nb_channels = channel_cnt[\"count\"][0]\n",
    "nb_gaming_channels = gaming_channel_cnt[\"count\"][0]\n",
    "nb_politics_channels = politics_channel_cnt[\"count\"][0]"
   ],
   "execution_count":44,
   "outputs":[
    
   ],
   "metadata":{
    "datalore":{
     "node_id":"MUAlSb3Tgn8w8tTzHsoIUB",
     "type":"CODE",
     "hide_input_from_viewers":true,
     "hide_output_from_viewers":true
    }
   }
  },
  {
   "cell_type":"markdown",
   "source":[
    "#### Results"
   ],
   "attachments":{
    
   },
   "metadata":{
    "datalore":{
     "node_id":"TAy9Qc5NFbn3E9PFDJoHEy",
     "type":"MD",
     "hide_input_from_viewers":false,
     "hide_output_from_viewers":false,
     "report_properties":{
      
     }
    }
   }
  },
  {
   "cell_type":"code",
   "source":[
    "print(f'There are {nb_channels} channels in the data')\n",
    "print(f'{nb_gaming_channels\/nb_channels*100:.2f} % of them are gaming channels ({nb_gaming_channels} channels)')\n",
    "print(f'{nb_politics_channels\/nb_channels*100:.2f} % of them are news\/political channels ({nb_politics_channels} channels)')"
   ],
   "execution_count":45,
   "outputs":[
    {
     "name":"stdout",
     "text":[
      "There are 136470 channels in the data\n",
      "14.76 % of them are gaming channels (20143 channels)\n",
      "1.66 % of them are news\/political channels (2263 channels)\n"
     ],
     "output_type":"stream"
    }
   ],
   "metadata":{
    "datalore":{
     "node_id":"Sa7RNJtznIzc3inQIU4AjM",
     "type":"CODE",
     "hide_input_from_viewers":false,
     "hide_output_from_viewers":false,
     "report_properties":{
      
     }
    }
   }
  },
  {
   "cell_type":"markdown",
   "source":[
    "#### Graphs"
   ],
   "attachments":{
    
   },
   "metadata":{
    "datalore":{
     "node_id":"CxQn6t6OekhB7XuwWPI1Xc",
     "type":"MD",
     "hide_input_from_viewers":false,
     "hide_output_from_viewers":false,
     "report_properties":{
      
     }
    }
   }
  },
  {
   "cell_type":"code",
   "source":[
    "channel_per_category = chan_per_cat.set_index('category_e')\n",
    "channel_per_category.plot.pie( y='count', figsize=(10, 10), autopct='%0.1f%%')\n",
    "plt.title(\"Distribution of channel categories\")\n",
    "plt.legend(loc='upper right', bbox_to_anchor=(2.0, 1.0))\n",
    "plt.show()"
   ],
   "execution_count":46,
   "outputs":[
    {
     "data":{
      "image\/png":"[encoded data removed]"
     },
     "metadata":{
      "image\/png":{
       
      }
     },
     "output_type":"display_data"
    }
   ],
   "metadata":{
    "datalore":{
     "node_id":"k8aiEc2nihyf62xXXVgLMM",
     "type":"CODE",
     "hide_input_from_viewers":false,
     "hide_output_from_viewers":false,
     "report_properties":{
      
     }
    }
   }
  },
  {
   "cell_type":"markdown",
   "source":[
    "### Video statistics"
   ],
   "attachments":{
    
   },
   "metadata":{
    "datalore":{
     "node_id":"sfIIA1AjyddWBvmdKnP9v6",
     "type":"MD",
     "hide_input_from_viewers":false,
     "hide_output_from_viewers":false,
     "report_properties":{
      
     }
    }
   }
  },
  {
   "cell_type":"markdown",
   "source":[
    "#### Queries & computations"
   ],
   "attachments":{
    
   },
   "metadata":{
    "datalore":{
     "node_id":"DeDUrKjDQvgscPODFFrqTV",
     "type":"MD",
     "hide_input_from_viewers":false,
     "hide_output_from_viewers":false,
     "report_properties":{
      
     }
    }
   }
  },
  {
   "cell_type":"code",
   "source":[
    "query_video_cnt = \"select count(video_id) from video_metadata\"\n",
    "video_cnt = pd.read_sql_query(query_video_cnt,con=conn)\n",
    "video_cnt"
   ],
   "execution_count":8,
   "outputs":[
    {
     "data":{
      "text\/html":[
       "<div>\n",
       "<style scoped>\n",
       "    .dataframe tbody tr th:only-of-type {\n",
       "        vertical-align: middle;\n",
       "    }\n",
       "\n",
       "    .dataframe tbody tr th {\n",
       "        vertical-align: top;\n",
       "    }\n",
       "\n",
       "    .dataframe thead th {\n",
       "        text-align: right;\n",
       "    }\n",
       "<\/style>\n",
       "<table border=\"1\" class=\"dataframe\">\n",
       "  <thead>\n",
       "    <tr style=\"text-align: right;\">\n",
       "      <th><\/th>\n",
       "      <th>count<\/th>\n",
       "    <\/tr>\n",
       "  <\/thead>\n",
       "  <tbody>\n",
       "    <tr>\n",
       "      <th>0<\/th>\n",
       "      <td>72924794<\/td>\n",
       "    <\/tr>\n",
       "  <\/tbody>\n",
       "<\/table>\n",
       "<\/div>"
      ]
     },
     "metadata":{
      
     },
     "output_type":"display_data"
    }
   ],
   "metadata":{
    "datalore":{
     "node_id":"rWMzkDJMsUs3K2GIAnLJTh",
     "type":"CODE",
     "hide_input_from_viewers":true,
     "hide_output_from_viewers":true
    }
   }
  },
  {
   "cell_type":"code",
   "source":[
    "query_gaming_vid_cnt2 = \"\"\"\n",
    "select count(video_id) from video_metadata video inner join \n",
    "(select channel from df_channels_en  where category_e = 'Gaming') gaming\n",
    "on video.channel_id = gaming.channel\"\"\"\n",
    "\n",
    "gaming_vid_cnt2 = pd.read_sql_query(str(query_gaming_vid_cnt2), con=conn)\n",
    "gaming_vid_cnt2"
   ],
   "execution_count":10,
   "outputs":[
    {
     "data":{
      "text\/html":[
       "<div>\n",
       "<style scoped>\n",
       "    .dataframe tbody tr th:only-of-type {\n",
       "        vertical-align: middle;\n",
       "    }\n",
       "\n",
       "    .dataframe tbody tr th {\n",
       "        vertical-align: top;\n",
       "    }\n",
       "\n",
       "    .dataframe thead th {\n",
       "        text-align: right;\n",
       "    }\n",
       "<\/style>\n",
       "<table border=\"1\" class=\"dataframe\">\n",
       "  <thead>\n",
       "    <tr style=\"text-align: right;\">\n",
       "      <th><\/th>\n",
       "      <th>count<\/th>\n",
       "    <\/tr>\n",
       "  <\/thead>\n",
       "  <tbody>\n",
       "    <tr>\n",
       "      <th>0<\/th>\n",
       "      <td>14168555<\/td>\n",
       "    <\/tr>\n",
       "  <\/tbody>\n",
       "<\/table>\n",
       "<\/div>"
      ]
     },
     "metadata":{
      
     },
     "output_type":"display_data"
    }
   ],
   "metadata":{
    "datalore":{
     "node_id":"d3R4iJZMI1V9luwMw0yPQ5",
     "type":"CODE",
     "hide_input_from_viewers":true,
     "hide_output_from_viewers":true
    }
   }
  },
  {
   "cell_type":"code",
   "source":[
    "query_gaming_vid_cnt = \"select count(*) from video_metadata where category_e = 'Gaming';\"\n",
    "\n",
    "gaming_vid_cnt = pd.read_sql_query(str(query_gaming_vid_cnt), con=conn)\n",
    "gaming_vid_cnt"
   ],
   "execution_count":11,
   "outputs":[
    {
     "data":{
      "text\/html":[
       "<div>\n",
       "<style scoped>\n",
       "    .dataframe tbody tr th:only-of-type {\n",
       "        vertical-align: middle;\n",
       "    }\n",
       "\n",
       "    .dataframe tbody tr th {\n",
       "        vertical-align: top;\n",
       "    }\n",
       "\n",
       "    .dataframe thead th {\n",
       "        text-align: right;\n",
       "    }\n",
       "<\/style>\n",
       "<table border=\"1\" class=\"dataframe\">\n",
       "  <thead>\n",
       "    <tr style=\"text-align: right;\">\n",
       "      <th><\/th>\n",
       "      <th>count<\/th>\n",
       "    <\/tr>\n",
       "  <\/thead>\n",
       "  <tbody>\n",
       "    <tr>\n",
       "      <th>0<\/th>\n",
       "      <td>13720303<\/td>\n",
       "    <\/tr>\n",
       "  <\/tbody>\n",
       "<\/table>\n",
       "<\/div>"
      ]
     },
     "metadata":{
      
     },
     "output_type":"display_data"
    }
   ],
   "metadata":{
    "datalore":{
     "node_id":"WZXT3JxvCnc4aCiaIUx0vj",
     "type":"CODE",
     "hide_input_from_viewers":true,
     "hide_output_from_viewers":true
    }
   }
  },
  {
   "cell_type":"code",
   "source":[
    "query_politics_vid_cnt2 = \"\"\"select count(video_id) from video_metadata video inner join\n",
    "(select channel from df_channels_en  where category_e = 'News & Politics') politics\n",
    "on video.channel_id = politics.channel;\"\"\"\n",
    "\n",
    "politics_vid_cnt2 = pd.read_sql_query(query_politics_vid_cnt2,con=conn)\n",
    "politics_vid_cnt2"
   ],
   "execution_count":12,
   "outputs":[
    {
     "data":{
      "text\/html":[
       "<div>\n",
       "<style scoped>\n",
       "    .dataframe tbody tr th:only-of-type {\n",
       "        vertical-align: middle;\n",
       "    }\n",
       "\n",
       "    .dataframe tbody tr th {\n",
       "        vertical-align: top;\n",
       "    }\n",
       "\n",
       "    .dataframe thead th {\n",
       "        text-align: right;\n",
       "    }\n",
       "<\/style>\n",
       "<table border=\"1\" class=\"dataframe\">\n",
       "  <thead>\n",
       "    <tr style=\"text-align: right;\">\n",
       "      <th><\/th>\n",
       "      <th>count<\/th>\n",
       "    <\/tr>\n",
       "  <\/thead>\n",
       "  <tbody>\n",
       "    <tr>\n",
       "      <th>0<\/th>\n",
       "      <td>9503610<\/td>\n",
       "    <\/tr>\n",
       "  <\/tbody>\n",
       "<\/table>\n",
       "<\/div>"
      ]
     },
     "metadata":{
      
     },
     "output_type":"display_data"
    }
   ],
   "metadata":{
    "datalore":{
     "node_id":"JZfIgGpcbRn0kSKMkU93tM",
     "type":"CODE",
     "hide_input_from_viewers":true,
     "hide_output_from_viewers":true
    }
   }
  },
  {
   "cell_type":"code",
   "source":[
    "query_politics_vid_cnt = \"select count(*) from video_metadata where category_e = 'News & Politics';\"\n",
    "\n",
    "politics_vid_cnt = pd.read_sql_query(query_politics_vid_cnt,con=conn)\n",
    "politics_vid_cnt"
   ],
   "execution_count":13,
   "outputs":[
    {
     "data":{
      "text\/html":[
       "<div>\n",
       "<style scoped>\n",
       "    .dataframe tbody tr th:only-of-type {\n",
       "        vertical-align: middle;\n",
       "    }\n",
       "\n",
       "    .dataframe tbody tr th {\n",
       "        vertical-align: top;\n",
       "    }\n",
       "\n",
       "    .dataframe thead th {\n",
       "        text-align: right;\n",
       "    }\n",
       "<\/style>\n",
       "<table border=\"1\" class=\"dataframe\">\n",
       "  <thead>\n",
       "    <tr style=\"text-align: right;\">\n",
       "      <th><\/th>\n",
       "      <th>count<\/th>\n",
       "    <\/tr>\n",
       "  <\/thead>\n",
       "  <tbody>\n",
       "    <tr>\n",
       "      <th>0<\/th>\n",
       "      <td>8881022<\/td>\n",
       "    <\/tr>\n",
       "  <\/tbody>\n",
       "<\/table>\n",
       "<\/div>"
      ]
     },
     "metadata":{
      
     },
     "output_type":"display_data"
    }
   ],
   "metadata":{
    "datalore":{
     "node_id":"uKIA9jxEzgCOjy9npMAlIo",
     "type":"CODE",
     "hide_input_from_viewers":true,
     "hide_output_from_viewers":true
    }
   }
  },
  {
   "cell_type":"code",
   "source":[
    "query_politics_vid_distr2 = \"\"\"select channel_id, count(video_id) from video_metadata video inner join\n",
    "(select channel from df_channels_en  where category_e = 'News & Politics') politics\n",
    "on video.channel_id = politics.channel\n",
    "group by video.channel_id;\"\"\"\n",
    "\n",
    "politics_vid_distr2 = pd.read_sql_query(query_politics_vid_distr2,con=conn)\n",
    "politics_vid_distr2"
   ],
   "execution_count":14,
   "outputs":[
    {
     "data":{
      "text\/html":[
       "<div>\n",
       "<style scoped>\n",
       "    .dataframe tbody tr th:only-of-type {\n",
       "        vertical-align: middle;\n",
       "    }\n",
       "\n",
       "    .dataframe tbody tr th {\n",
       "        vertical-align: top;\n",
       "    }\n",
       "\n",
       "    .dataframe thead th {\n",
       "        text-align: right;\n",
       "    }\n",
       "<\/style>\n",
       "<table border=\"1\" class=\"dataframe\">\n",
       "  <thead>\n",
       "    <tr style=\"text-align: right;\">\n",
       "      <th><\/th>\n",
       "      <th>channel_id<\/th>\n",
       "      <th>count<\/th>\n",
       "    <\/tr>\n",
       "  <\/thead>\n",
       "  <tbody>\n",
       "    <tr>\n",
       "      <th>0<\/th>\n",
       "      <td>UC-0tjhOYNITmYenKykN1d5A<\/td>\n",
       "      <td>175<\/td>\n",
       "    <\/tr>\n",
       "    <tr>\n",
       "      <th>1<\/th>\n",
       "      <td>UC-2MJlKSq9_pYk5-bdvMhnw<\/td>\n",
       "      <td>2594<\/td>\n",
       "    <\/tr>\n",
       "    <tr>\n",
       "      <th>2<\/th>\n",
       "      <td>UC-3jIAlnQmbbVMV6gR7K8aQ<\/td>\n",
       "      <td>13135<\/td>\n",
       "    <\/tr>\n",
       "    <tr>\n",
       "      <th>3<\/th>\n",
       "      <td>UC-6DpdmxyEh6oPQb0gVKMiQ<\/td>\n",
       "      <td>998<\/td>\n",
       "    <\/tr>\n",
       "    <tr>\n",
       "      <th>4<\/th>\n",
       "      <td>UC-7vnmA1Zf1cRyqs9aR77ag<\/td>\n",
       "      <td>1733<\/td>\n",
       "    <\/tr>\n",
       "    <tr>\n",
       "      <th>...<\/th>\n",
       "      <td>...<\/td>\n",
       "      <td>...<\/td>\n",
       "    <\/tr>\n",
       "    <tr>\n",
       "      <th>2258<\/th>\n",
       "      <td>UCzhtAFR4aiLOr8IWqA92-5w<\/td>\n",
       "      <td>10591<\/td>\n",
       "    <\/tr>\n",
       "    <tr>\n",
       "      <th>2259<\/th>\n",
       "      <td>UCzmDDWDw9N7aB5Q9IWvQKfw<\/td>\n",
       "      <td>1945<\/td>\n",
       "    <\/tr>\n",
       "    <tr>\n",
       "      <th>2260<\/th>\n",
       "      <td>UCztSIZEGBfWfC3Mq63QXnsA<\/td>\n",
       "      <td>6296<\/td>\n",
       "    <\/tr>\n",
       "    <tr>\n",
       "      <th>2261<\/th>\n",
       "      <td>UCzuqE7-t13O4NIDYJfakrhw<\/td>\n",
       "      <td>8611<\/td>\n",
       "    <\/tr>\n",
       "    <tr>\n",
       "      <th>2262<\/th>\n",
       "      <td>UCzzKrtcSbLq28-JuTfYmZDg<\/td>\n",
       "      <td>200<\/td>\n",
       "    <\/tr>\n",
       "  <\/tbody>\n",
       "<\/table>\n",
       "<p>2263 rows × 2 columns<\/p>\n",
       "<\/div>"
      ]
     },
     "metadata":{
      
     },
     "output_type":"display_data"
    }
   ],
   "metadata":{
    "datalore":{
     "node_id":"MmIBVv62ZDbu2HLBZFJdJK",
     "type":"CODE",
     "hide_input_from_viewers":true,
     "hide_output_from_viewers":true
    }
   }
  },
  {
   "cell_type":"code",
   "source":[
    "query_politics_vid_distr = \"select channel_id,count(video_id) from video_metadata where category_e = 'News & Politics' group by channel_id\"\n",
    "\n",
    "politics_vid_distr = pd.read_sql_query(query_politics_vid_distr,con=conn)\n",
    "politics_vid_distr"
   ],
   "execution_count":15,
   "outputs":[
    {
     "data":{
      "text\/html":[
       "<div>\n",
       "<style scoped>\n",
       "    .dataframe tbody tr th:only-of-type {\n",
       "        vertical-align: middle;\n",
       "    }\n",
       "\n",
       "    .dataframe tbody tr th {\n",
       "        vertical-align: top;\n",
       "    }\n",
       "\n",
       "    .dataframe thead th {\n",
       "        text-align: right;\n",
       "    }\n",
       "<\/style>\n",
       "<table border=\"1\" class=\"dataframe\">\n",
       "  <thead>\n",
       "    <tr style=\"text-align: right;\">\n",
       "      <th><\/th>\n",
       "      <th>channel_id<\/th>\n",
       "      <th>count<\/th>\n",
       "    <\/tr>\n",
       "  <\/thead>\n",
       "  <tbody>\n",
       "    <tr>\n",
       "      <th>0<\/th>\n",
       "      <td>UC--3c8RqSfAqYBdDjIG3UNA<\/td>\n",
       "      <td>1<\/td>\n",
       "    <\/tr>\n",
       "    <tr>\n",
       "      <th>1<\/th>\n",
       "      <td>UC--jxlaAvQBLXKkvxecF8qQ<\/td>\n",
       "      <td>156<\/td>\n",
       "    <\/tr>\n",
       "    <tr>\n",
       "      <th>2<\/th>\n",
       "      <td>UC-07j8SBVA5mHbiNWe2-jcw<\/td>\n",
       "      <td>1<\/td>\n",
       "    <\/tr>\n",
       "    <tr>\n",
       "      <th>3<\/th>\n",
       "      <td>UC-0lQDT3mf_-HNC3hbD23Iw<\/td>\n",
       "      <td>1<\/td>\n",
       "    <\/tr>\n",
       "    <tr>\n",
       "      <th>4<\/th>\n",
       "      <td>UC-0tjhOYNITmYenKykN1d5A<\/td>\n",
       "      <td>75<\/td>\n",
       "    <\/tr>\n",
       "    <tr>\n",
       "      <th>...<\/th>\n",
       "      <td>...<\/td>\n",
       "      <td>...<\/td>\n",
       "    <\/tr>\n",
       "    <tr>\n",
       "      <th>11329<\/th>\n",
       "      <td>UCzyuclWm7yANjLYP4vlcleg<\/td>\n",
       "      <td>7<\/td>\n",
       "    <\/tr>\n",
       "    <tr>\n",
       "      <th>11330<\/th>\n",
       "      <td>UCzyuszXJUbY6w-S_t3n7hNQ<\/td>\n",
       "      <td>1<\/td>\n",
       "    <\/tr>\n",
       "    <tr>\n",
       "      <th>11331<\/th>\n",
       "      <td>UCzzKrtcSbLq28-JuTfYmZDg<\/td>\n",
       "      <td>200<\/td>\n",
       "    <\/tr>\n",
       "    <tr>\n",
       "      <th>11332<\/th>\n",
       "      <td>UCzzLIhDbFYU46T4VFBz_m_g<\/td>\n",
       "      <td>4<\/td>\n",
       "    <\/tr>\n",
       "    <tr>\n",
       "      <th>11333<\/th>\n",
       "      <td>UCzzYnZ8GIzfB1Vr3hk2Nj9Q<\/td>\n",
       "      <td>1<\/td>\n",
       "    <\/tr>\n",
       "  <\/tbody>\n",
       "<\/table>\n",
       "<p>11334 rows × 2 columns<\/p>\n",
       "<\/div>"
      ]
     },
     "metadata":{
      
     },
     "output_type":"display_data"
    }
   ],
   "metadata":{
    "datalore":{
     "node_id":"hNoHL4K7RcNYOgXVQSOG85",
     "type":"CODE",
     "hide_input_from_viewers":true,
     "hide_output_from_viewers":true
    }
   }
  },
  {
   "cell_type":"code",
   "source":[
    "query_gaming_vid_distr2 = \"\"\"select channel_id, count(video_id) from video_metadata video inner join\n",
    "(select channel from df_channels_en  where category_e = 'Gaming') gaming\n",
    "on video.channel_id = gaming.channel\n",
    "group by video.channel_id\"\"\"\n",
    "\n",
    "gaming_vid_distr2 = pd.read_sql_query(query_gaming_vid_distr2,con = conn)\n",
    "gaming_vid_distr2"
   ],
   "execution_count":16,
   "outputs":[
    {
     "data":{
      "text\/html":[
       "<div>\n",
       "<style scoped>\n",
       "    .dataframe tbody tr th:only-of-type {\n",
       "        vertical-align: middle;\n",
       "    }\n",
       "\n",
       "    .dataframe tbody tr th {\n",
       "        vertical-align: top;\n",
       "    }\n",
       "\n",
       "    .dataframe thead th {\n",
       "        text-align: right;\n",
       "    }\n",
       "<\/style>\n",
       "<table border=\"1\" class=\"dataframe\">\n",
       "  <thead>\n",
       "    <tr style=\"text-align: right;\">\n",
       "      <th><\/th>\n",
       "      <th>channel_id<\/th>\n",
       "      <th>count<\/th>\n",
       "    <\/tr>\n",
       "  <\/thead>\n",
       "  <tbody>\n",
       "    <tr>\n",
       "      <th>0<\/th>\n",
       "      <td>UC--7oyGW0N7fMf164-ZXljQ<\/td>\n",
       "      <td>205<\/td>\n",
       "    <\/tr>\n",
       "    <tr>\n",
       "      <th>1<\/th>\n",
       "      <td>UC--b720KocplK9zh0peruqg<\/td>\n",
       "      <td>38<\/td>\n",
       "    <\/tr>\n",
       "    <tr>\n",
       "      <th>2<\/th>\n",
       "      <td>UC--vL4ZYLa0bi3TQcuwrhoA<\/td>\n",
       "      <td>23<\/td>\n",
       "    <\/tr>\n",
       "    <tr>\n",
       "      <th>3<\/th>\n",
       "      <td>UC-05oNebNywp5jy7iXZWZzA<\/td>\n",
       "      <td>332<\/td>\n",
       "    <\/tr>\n",
       "    <tr>\n",
       "      <th>4<\/th>\n",
       "      <td>UC-0Wg1wOUp-bRF1ZiC0dE8g<\/td>\n",
       "      <td>1152<\/td>\n",
       "    <\/tr>\n",
       "    <tr>\n",
       "      <th>...<\/th>\n",
       "      <td>...<\/td>\n",
       "      <td>...<\/td>\n",
       "    <\/tr>\n",
       "    <tr>\n",
       "      <th>20138<\/th>\n",
       "      <td>UCzyu0YDMQB_5iSGPOXECcHQ<\/td>\n",
       "      <td>10<\/td>\n",
       "    <\/tr>\n",
       "    <tr>\n",
       "      <th>20139<\/th>\n",
       "      <td>UCzz9_nzdbrxnErTZPZdZ-cw<\/td>\n",
       "      <td>317<\/td>\n",
       "    <\/tr>\n",
       "    <tr>\n",
       "      <th>20140<\/th>\n",
       "      <td>UCzzHicLcWJP2jagxpqebzsA<\/td>\n",
       "      <td>133<\/td>\n",
       "    <\/tr>\n",
       "    <tr>\n",
       "      <th>20141<\/th>\n",
       "      <td>UCzzSPRyMYUw6IGueHr1K0Jg<\/td>\n",
       "      <td>519<\/td>\n",
       "    <\/tr>\n",
       "    <tr>\n",
       "      <th>20142<\/th>\n",
       "      <td>UCzzXikQ7B6ZCcmOYceFdumg<\/td>\n",
       "      <td>129<\/td>\n",
       "    <\/tr>\n",
       "  <\/tbody>\n",
       "<\/table>\n",
       "<p>20143 rows × 2 columns<\/p>\n",
       "<\/div>"
      ]
     },
     "metadata":{
      
     },
     "output_type":"display_data"
    }
   ],
   "metadata":{
    "datalore":{
     "node_id":"RZUaRQdYe028WUQSKHQLCX",
     "type":"CODE",
     "hide_input_from_viewers":true,
     "hide_output_from_viewers":true
    }
   }
  },
  {
   "cell_type":"code",
   "source":[
    "query_gaming_vid_distr = \"select channel_id,count(video_id) from video_metadata where category_e = 'Gaming' group by channel_id\"\n",
    "gaming_vid_distr = pd.read_sql_query(query_gaming_vid_distr,con=conn)\n",
    "gaming_vid_distr"
   ],
   "execution_count":17,
   "outputs":[
    {
     "data":{
      "text\/html":[
       "<div>\n",
       "<style scoped>\n",
       "    .dataframe tbody tr th:only-of-type {\n",
       "        vertical-align: middle;\n",
       "    }\n",
       "\n",
       "    .dataframe tbody tr th {\n",
       "        vertical-align: top;\n",
       "    }\n",
       "\n",
       "    .dataframe thead th {\n",
       "        text-align: right;\n",
       "    }\n",
       "<\/style>\n",
       "<table border=\"1\" class=\"dataframe\">\n",
       "  <thead>\n",
       "    <tr style=\"text-align: right;\">\n",
       "      <th><\/th>\n",
       "      <th>channel_id<\/th>\n",
       "      <th>count<\/th>\n",
       "    <\/tr>\n",
       "  <\/thead>\n",
       "  <tbody>\n",
       "    <tr>\n",
       "      <th>0<\/th>\n",
       "      <td>UC--2EbuIuBOGgGqPiJxi3rg<\/td>\n",
       "      <td>2<\/td>\n",
       "    <\/tr>\n",
       "    <tr>\n",
       "      <th>1<\/th>\n",
       "      <td>UC--7oyGW0N7fMf164-ZXljQ<\/td>\n",
       "      <td>160<\/td>\n",
       "    <\/tr>\n",
       "    <tr>\n",
       "      <th>2<\/th>\n",
       "      <td>UC--SaadDxRXz729rtbQqyBA<\/td>\n",
       "      <td>1<\/td>\n",
       "    <\/tr>\n",
       "    <tr>\n",
       "      <th>3<\/th>\n",
       "      <td>UC--b720KocplK9zh0peruqg<\/td>\n",
       "      <td>37<\/td>\n",
       "    <\/tr>\n",
       "    <tr>\n",
       "      <th>4<\/th>\n",
       "      <td>UC--oOv_2PpzwK4WNsjG2UAw<\/td>\n",
       "      <td>4<\/td>\n",
       "    <\/tr>\n",
       "    <tr>\n",
       "      <th>...<\/th>\n",
       "      <td>...<\/td>\n",
       "      <td>...<\/td>\n",
       "    <\/tr>\n",
       "    <tr>\n",
       "      <th>33136<\/th>\n",
       "      <td>UCzzLIhDbFYU46T4VFBz_m_g<\/td>\n",
       "      <td>1<\/td>\n",
       "    <\/tr>\n",
       "    <tr>\n",
       "      <th>33137<\/th>\n",
       "      <td>UCzzSPRyMYUw6IGueHr1K0Jg<\/td>\n",
       "      <td>409<\/td>\n",
       "    <\/tr>\n",
       "    <tr>\n",
       "      <th>33138<\/th>\n",
       "      <td>UCzzXikQ7B6ZCcmOYceFdumg<\/td>\n",
       "      <td>129<\/td>\n",
       "    <\/tr>\n",
       "    <tr>\n",
       "      <th>33139<\/th>\n",
       "      <td>UCzzYnZ8GIzfB1Vr3hk2Nj9Q<\/td>\n",
       "      <td>1<\/td>\n",
       "    <\/tr>\n",
       "    <tr>\n",
       "      <th>33140<\/th>\n",
       "      <td>UCzzt-UNlRHbEFY3rEpFpuXw<\/td>\n",
       "      <td>1<\/td>\n",
       "    <\/tr>\n",
       "  <\/tbody>\n",
       "<\/table>\n",
       "<p>33141 rows × 2 columns<\/p>\n",
       "<\/div>"
      ]
     },
     "metadata":{
      
     },
     "output_type":"display_data"
    }
   ],
   "metadata":{
    "datalore":{
     "node_id":"TdnXxJrdyCdSh1fw8zAj9Y",
     "type":"CODE",
     "hide_input_from_viewers":true,
     "hide_output_from_viewers":true
    }
   }
  },
  {
   "cell_type":"code",
   "source":[
    "query_vid_per_cat2 = \"\"\"select categories.category_e, count(video_id) from video_metadata video inner join\n",
    "(select category_e, channel from df_channels_en) categories\n",
    "on video.channel_id = categories.channel\n",
    "group by categories.category_e\n",
    "order by count(video_id) desc\"\"\"\n",
    "\n",
    "vid_per_cat2 = pd.read_sql_query(query_vid_per_cat2,con=conn)\n",
    "vid_per_cat2"
   ],
   "execution_count":18,
   "outputs":[
    {
     "data":{
      "text\/html":[
       "<div>\n",
       "<style scoped>\n",
       "    .dataframe tbody tr th:only-of-type {\n",
       "        vertical-align: middle;\n",
       "    }\n",
       "\n",
       "    .dataframe tbody tr th {\n",
       "        vertical-align: top;\n",
       "    }\n",
       "\n",
       "    .dataframe thead th {\n",
       "        text-align: right;\n",
       "    }\n",
       "<\/style>\n",
       "<table border=\"1\" class=\"dataframe\">\n",
       "  <thead>\n",
       "    <tr style=\"text-align: right;\">\n",
       "      <th><\/th>\n",
       "      <th>category_e<\/th>\n",
       "      <th>count<\/th>\n",
       "    <\/tr>\n",
       "  <\/thead>\n",
       "  <tbody>\n",
       "    <tr>\n",
       "      <th>0<\/th>\n",
       "      <td>Gaming<\/td>\n",
       "      <td>14168555<\/td>\n",
       "    <\/tr>\n",
       "    <tr>\n",
       "      <th>1<\/th>\n",
       "      <td>Entertainment<\/td>\n",
       "      <td>12628972<\/td>\n",
       "    <\/tr>\n",
       "    <tr>\n",
       "      <th>2<\/th>\n",
       "      <td>News &amp; Politics<\/td>\n",
       "      <td>9503610<\/td>\n",
       "    <\/tr>\n",
       "    <tr>\n",
       "      <th>3<\/th>\n",
       "      <td>Music<\/td>\n",
       "      <td>8523382<\/td>\n",
       "    <\/tr>\n",
       "    <tr>\n",
       "      <th>4<\/th>\n",
       "      <td>People &amp; Blogs<\/td>\n",
       "      <td>5553837<\/td>\n",
       "    <\/tr>\n",
       "    <tr>\n",
       "      <th>5<\/th>\n",
       "      <td>Sports<\/td>\n",
       "      <td>4341527<\/td>\n",
       "    <\/tr>\n",
       "    <tr>\n",
       "      <th>6<\/th>\n",
       "      <td>Education<\/td>\n",
       "      <td>4027635<\/td>\n",
       "    <\/tr>\n",
       "    <tr>\n",
       "      <th>7<\/th>\n",
       "      <td>Howto &amp; Style<\/td>\n",
       "      <td>3963876<\/td>\n",
       "    <\/tr>\n",
       "    <tr>\n",
       "      <th>8<\/th>\n",
       "      <td>Science &amp; Technology<\/td>\n",
       "      <td>2466984<\/td>\n",
       "    <\/tr>\n",
       "    <tr>\n",
       "      <th>9<\/th>\n",
       "      <td>Autos &amp; Vehicles<\/td>\n",
       "      <td>2294117<\/td>\n",
       "    <\/tr>\n",
       "    <tr>\n",
       "      <th>10<\/th>\n",
       "      <td>Film and Animation<\/td>\n",
       "      <td>2018691<\/td>\n",
       "    <\/tr>\n",
       "    <tr>\n",
       "      <th>11<\/th>\n",
       "      <td>Comedy<\/td>\n",
       "      <td>1031074<\/td>\n",
       "    <\/tr>\n",
       "    <tr>\n",
       "      <th>12<\/th>\n",
       "      <td>Travel &amp; Events<\/td>\n",
       "      <td>967445<\/td>\n",
       "    <\/tr>\n",
       "    <tr>\n",
       "      <th>13<\/th>\n",
       "      <td>Nonprofits &amp; Activism<\/td>\n",
       "      <td>791890<\/td>\n",
       "    <\/tr>\n",
       "    <tr>\n",
       "      <th>14<\/th>\n",
       "      <td>Pets &amp; Animals<\/td>\n",
       "      <td>602514<\/td>\n",
       "    <\/tr>\n",
       "    <tr>\n",
       "      <th>15<\/th>\n",
       "      <td>None<\/td>\n",
       "      <td>40685<\/td>\n",
       "    <\/tr>\n",
       "  <\/tbody>\n",
       "<\/table>\n",
       "<\/div>"
      ]
     },
     "metadata":{
      
     },
     "output_type":"display_data"
    }
   ],
   "metadata":{
    "datalore":{
     "node_id":"BCHRVcXyrsz8UgxxIOTSzS",
     "type":"CODE",
     "hide_input_from_viewers":true,
     "hide_output_from_viewers":true
    }
   }
  },
  {
   "cell_type":"code",
   "source":[
    "query_vid_per_cat = \"select category_e, count(video_id) from video_metadata group by category_e order by count(video_id) desc\"\n",
    "vid_per_cat = pd.read_sql_query(query_vid_per_cat,con=conn)\n",
    "vid_per_cat"
   ],
   "execution_count":19,
   "outputs":[
    {
     "data":{
      "text\/html":[
       "<div>\n",
       "<style scoped>\n",
       "    .dataframe tbody tr th:only-of-type {\n",
       "        vertical-align: middle;\n",
       "    }\n",
       "\n",
       "    .dataframe tbody tr th {\n",
       "        vertical-align: top;\n",
       "    }\n",
       "\n",
       "    .dataframe thead th {\n",
       "        text-align: right;\n",
       "    }\n",
       "<\/style>\n",
       "<table border=\"1\" class=\"dataframe\">\n",
       "  <thead>\n",
       "    <tr style=\"text-align: right;\">\n",
       "      <th><\/th>\n",
       "      <th>category_e<\/th>\n",
       "      <th>count<\/th>\n",
       "    <\/tr>\n",
       "  <\/thead>\n",
       "  <tbody>\n",
       "    <tr>\n",
       "      <th>0<\/th>\n",
       "      <td>Gaming<\/td>\n",
       "      <td>13720303<\/td>\n",
       "    <\/tr>\n",
       "    <tr>\n",
       "      <th>1<\/th>\n",
       "      <td>Entertainment<\/td>\n",
       "      <td>12276397<\/td>\n",
       "    <\/tr>\n",
       "    <tr>\n",
       "      <th>2<\/th>\n",
       "      <td>News &amp; Politics<\/td>\n",
       "      <td>8881022<\/td>\n",
       "    <\/tr>\n",
       "    <tr>\n",
       "      <th>3<\/th>\n",
       "      <td>Music<\/td>\n",
       "      <td>8305003<\/td>\n",
       "    <\/tr>\n",
       "    <tr>\n",
       "      <th>4<\/th>\n",
       "      <td>People &amp; Blogs<\/td>\n",
       "      <td>6910666<\/td>\n",
       "    <\/tr>\n",
       "    <tr>\n",
       "      <th>5<\/th>\n",
       "      <td>Sports<\/td>\n",
       "      <td>4354412<\/td>\n",
       "    <\/tr>\n",
       "    <tr>\n",
       "      <th>6<\/th>\n",
       "      <td>Howto &amp; Style<\/td>\n",
       "      <td>3968127<\/td>\n",
       "    <\/tr>\n",
       "    <tr>\n",
       "      <th>7<\/th>\n",
       "      <td>Education<\/td>\n",
       "      <td>3795564<\/td>\n",
       "    <\/tr>\n",
       "    <tr>\n",
       "      <th>8<\/th>\n",
       "      <td>Science &amp; Technology<\/td>\n",
       "      <td>2403004<\/td>\n",
       "    <\/tr>\n",
       "    <tr>\n",
       "      <th>9<\/th>\n",
       "      <td>Film and Animation<\/td>\n",
       "      <td>2359736<\/td>\n",
       "    <\/tr>\n",
       "    <tr>\n",
       "      <th>10<\/th>\n",
       "      <td>Autos &amp; Vehicles<\/td>\n",
       "      <td>2256967<\/td>\n",
       "    <\/tr>\n",
       "    <tr>\n",
       "      <th>11<\/th>\n",
       "      <td>Comedy<\/td>\n",
       "      <td>1172503<\/td>\n",
       "    <\/tr>\n",
       "    <tr>\n",
       "      <th>12<\/th>\n",
       "      <td>Travel &amp; Events<\/td>\n",
       "      <td>1096565<\/td>\n",
       "    <\/tr>\n",
       "    <tr>\n",
       "      <th>13<\/th>\n",
       "      <td>Nonprofits &amp; Activism<\/td>\n",
       "      <td>777449<\/td>\n",
       "    <\/tr>\n",
       "    <tr>\n",
       "      <th>14<\/th>\n",
       "      <td>Pets &amp; Animals<\/td>\n",
       "      <td>645508<\/td>\n",
       "    <\/tr>\n",
       "    <tr>\n",
       "      <th>15<\/th>\n",
       "      <td>None<\/td>\n",
       "      <td>1522<\/td>\n",
       "    <\/tr>\n",
       "    <tr>\n",
       "      <th>16<\/th>\n",
       "      <td>Shows<\/td>\n",
       "      <td>41<\/td>\n",
       "    <\/tr>\n",
       "    <tr>\n",
       "      <th>17<\/th>\n",
       "      <td>Movies<\/td>\n",
       "      <td>5<\/td>\n",
       "    <\/tr>\n",
       "  <\/tbody>\n",
       "<\/table>\n",
       "<\/div>"
      ]
     },
     "metadata":{
      
     },
     "output_type":"display_data"
    }
   ],
   "metadata":{
    "datalore":{
     "node_id":"MtijrFxd47h2SlzTlxMkah",
     "type":"CODE",
     "hide_input_from_viewers":true,
     "hide_output_from_viewers":true
    }
   }
  },
  {
   "cell_type":"code",
   "source":[
    "# variables computation from dataframe\n",
    "video_count = video_cnt[\"count\"][0]\n",
    "gaming_video_count = gaming_vid_cnt[\"count\"][0]\n",
    "politics_video_count = politics_vid_cnt[\"count\"][0]\n",
    "gaming_channel_video_count = gaming_vid_cnt2[\"count\"][0]\n",
    "politics_channel_video_count = politics_vid_cnt2[\"count\"][0]\n",
    "\n",
    "mean_gaming_video_distr = gaming_vid_distr[\"count\"].mean()\n",
    "mean_politics_video_distr = politics_vid_distr[\"count\"].mean()\n",
    "mean_gaming_channel_video_distr = gaming_vid_distr2[\"count\"].mean()\n",
    "mean_politics_channel_video_distr = politics_vid_distr2[\"count\"].mean()"
   ],
   "execution_count":20,
   "outputs":[
    
   ],
   "metadata":{
    "datalore":{
     "node_id":"YQijCyGwviDtlTdPxGacwF",
     "type":"CODE",
     "hide_input_from_viewers":false,
     "hide_output_from_viewers":false,
     "report_properties":{
      
     }
    }
   }
  },
  {
   "cell_type":"markdown",
   "source":[
    "#### Results"
   ],
   "attachments":{
    
   },
   "metadata":{
    "datalore":{
     "node_id":"k3rmjvbzThvTdsTTUuykbW",
     "type":"MD",
     "hide_input_from_viewers":false,
     "hide_output_from_viewers":false,
     "report_properties":{
      
     }
    }
   }
  },
  {
   "cell_type":"code",
   "source":[
    "print(f'There are {video_count} videos in our dataset')\n",
    "print(f'{(gaming_channel_video_count \/ video_count)*100:.2f}% of them are from gaming channels ({gaming_channel_video_count} videos)')\n",
    "print(f'{(politics_channel_video_count \/ video_count)*100:.2f}% of them are from news\/politics channels ({politics_channel_video_count} videos)')\n",
    "print(f'{(gaming_video_count \/ video_count)*100:.2f}% of them are gaming videos ({gaming_video_count} videos)')\n",
    "print(f'{(politics_video_count \/ video_count)*100:.2f}% of them are news\/politics videos ({politics_video_count} videos)')"
   ],
   "execution_count":21,
   "outputs":[
    {
     "name":"stdout",
     "text":[
      "There are 72924794 videos in our dataset\n",
      "19.43% of them are from gaming channels (14168555 videos)\n",
      "13.03% of them are from news\/politics channels (9503610 videos)\n",
      "18.81% of them are gaming videos (13720303 videos)\n",
      "12.18% of them are news\/politics videos (8881022 videos)\n"
     ],
     "output_type":"stream"
    }
   ],
   "metadata":{
    "datalore":{
     "node_id":"SyYCyGgaMPvJWHGdz4uWdg",
     "type":"CODE",
     "hide_input_from_viewers":false,
     "hide_output_from_viewers":false,
     "report_properties":{
      
     }
    }
   }
  },
  {
   "cell_type":"code",
   "source":[
    "print(f'News\/politics channels have an average of {mean_gaming_channel_video_distr:.2f} videos per channel --> see graph for full distribution')\n",
    "print(f'Gaming channels have an average of {mean_politics_channel_video_distr:.2f} videos per channel --> see graph for full distribution')\n",
    "print(f'Channels who post gaming videos post an average of {mean_gaming_video_distr:.2f} gaming videos per channel --> see graph for full distribution')\n",
    "print(f'Channels who post news\/politics videos post an average of {mean_politics_video_distr:.2f} news\/politics videos per channel --> see graph for full distribution')"
   ],
   "execution_count":22,
   "outputs":[
    {
     "name":"stdout",
     "text":[
      "News\/politics channels have an average of 703.40 videos per channel --> see graph for full distribution\n",
      "Gaming channels have an average of 4199.56 videos per channel --> see graph for full distribution\n",
      "Channels who post gaming videos post an average of 414.00 gaming videos per channel --> see graph for full distribution\n",
      "Channels who post news\/politics videos post an average of 783.57 news\/politics videos per channel --> see graph for full distribution\n"
     ],
     "output_type":"stream"
    }
   ],
   "metadata":{
    "datalore":{
     "node_id":"NsWs6DsI7aysvDz5ac8RwD",
     "type":"CODE",
     "hide_input_from_viewers":false,
     "hide_output_from_viewers":false,
     "report_properties":{
      
     }
    }
   }
  },
  {
   "cell_type":"markdown",
   "source":[
    "#### Graphs"
   ],
   "attachments":{
    
   },
   "metadata":{
    "datalore":{
     "node_id":"8jLGanNrOvkHO9PpwcF6Fl",
     "type":"MD",
     "hide_input_from_viewers":false,
     "hide_output_from_viewers":false,
     "report_properties":{
      
     }
    }
   }
  },
  {
   "cell_type":"code",
   "source":[
    "politics_vid_distr2[\"count\"].hist(bins = 50)\n",
    "plt.yscale('log')\n",
    "plt.xlabel(\"Number of videos\")\n",
    "plt.ylabel(\"Number of news\/politics channels (logscale)\")\n",
    "plt.title(\"Distribution of videos per channel (news\/politics)\")\n",
    "plt.show()"
   ],
   "execution_count":30,
   "outputs":[
    {
     "data":{
      "image\/png":"[encoded data removed]"
     },
     "metadata":{
      "image\/png":{
       
      }
     },
     "output_type":"display_data"
    }
   ],
   "metadata":{
    "datalore":{
     "node_id":"f3M2jzuqxZ2mxulivkMGpP",
     "type":"CODE",
     "hide_input_from_viewers":false,
     "hide_output_from_viewers":false,
     "report_properties":{
      
     }
    }
   }
  },
  {
   "cell_type":"code",
   "source":[
    "gaming_vid_distr2[\"count\"].hist(bins = 50)\n",
    "plt.yscale('log')\n",
    "plt.xlabel(\"Number of videos\")\n",
    "plt.ylabel(\"Number of gaming channels (logscale)\")\n",
    "plt.title(\"Distribution of videos per channel (gaming)\")\n",
    "plt.show()"
   ],
   "execution_count":31,
   "outputs":[
    {
     "data":{
      "image\/png":"[encoded data removed]"
     },
     "metadata":{
      "image\/png":{
       
      }
     },
     "output_type":"display_data"
    }
   ],
   "metadata":{
    "datalore":{
     "node_id":"nQtX2xB9WO4RvRq2TddIdv",
     "type":"CODE",
     "hide_input_from_viewers":false,
     "hide_output_from_viewers":false,
     "report_properties":{
      
     }
    }
   }
  },
  {
   "cell_type":"code",
   "source":[
    "politics_vid_distr[\"count\"].hist(bins = 50)\n",
    "plt.yscale('log')\n",
    "plt.xlabel(\"Number of news\/politics videos\")\n",
    "plt.ylabel(\"Number of channels (logscale)\")\n",
    "plt.title(\"Distribution of news\/politics videos per channel (>= 1 news\/politics videos)\")\n",
    "plt.show()"
   ],
   "execution_count":36,
   "outputs":[
    {
     "data":{
      "image\/png":"[encoded data removed]"
     },
     "metadata":{
      "image\/png":{
       
      }
     },
     "output_type":"display_data"
    }
   ],
   "metadata":{
    "datalore":{
     "node_id":"hqfWkmM9HKynGriL15jWdF",
     "type":"CODE",
     "hide_input_from_viewers":true,
     "hide_output_from_viewers":true
    }
   }
  },
  {
   "cell_type":"code",
   "source":[
    "gaming_vid_distr[\"count\"].hist(bins = 50)\n",
    "plt.yscale('log')\n",
    "plt.xlabel(\"Number of gaming videos\")\n",
    "plt.ylabel(\"Number of channels (logscale)\")\n",
    "plt.title(\"Distribution of gaming videos per channel (>= 1 gaming videos)\")\n",
    "plt.show()"
   ],
   "execution_count":37,
   "outputs":[
    {
     "data":{
      "image\/png":"[encoded data removed]"
     },
     "metadata":{
      "image\/png":{
       
      }
     },
     "output_type":"display_data"
    }
   ],
   "metadata":{
    "datalore":{
     "node_id":"FBvKdv0AKwp8R7ThgZBVxF",
     "type":"CODE",
     "hide_input_from_viewers":true,
     "hide_output_from_viewers":true
    }
   }
  },
  {
   "cell_type":"code",
   "source":[
    "videos_per_channel_category = vid_per_cat2.set_index('category_e')\n",
    "videos_per_channel_category.plot.pie( y='count', figsize=(10, 10), autopct='%0.1f%%')\n",
    "plt.title(\"Distribution of videos per channel category\")\n",
    "plt.legend(loc='upper right', bbox_to_anchor=(2.0, 1.0))\n",
    "plt.show()"
   ],
   "execution_count":38,
   "outputs":[
    {
     "data":{
      "image\/png":"[encoded data removed]"
     },
     "metadata":{
      "image\/png":{
       
      }
     },
     "output_type":"display_data"
    }
   ],
   "metadata":{
    "datalore":{
     "node_id":"kVBeTYkbQzxeJy1Z2YhPY1",
     "type":"CODE",
     "hide_input_from_viewers":true,
     "hide_output_from_viewers":true
    }
   }
  },
  {
   "cell_type":"code",
   "source":[
    "videos_per_category = vid_per_cat.set_index('category_e')\n",
    "videos_per_category.plot.pie( y='count', figsize=(10, 10), autopct='%0.1f%%')\n",
    "plt.title(\"Distribution of video categories\")\n",
    "plt.legend(loc='upper right', bbox_to_anchor=(2.0, 1.0))\n",
    "plt.show()"
   ],
   "execution_count":39,
   "outputs":[
    {
     "data":{
      "image\/png":"[encoded data removed]"
     },
     "metadata":{
      "image\/png":{
       
      }
     },
     "output_type":"display_data"
    }
   ],
   "metadata":{
    "datalore":{
     "node_id":"1xm0tg7IxVkR3hZllvbcq9",
     "type":"CODE",
     "hide_input_from_viewers":false,
     "hide_output_from_viewers":false,
     "report_properties":{
      
     }
    }
   }
  },
  {
   "cell_type":"markdown",
   "source":[
    "### Comment statistics"
   ],
   "attachments":{
    
   },
   "metadata":{
    "datalore":{
     "node_id":"Ds1slc6BySaxxoVe9SJE9q",
     "type":"MD",
     "hide_input_from_viewers":false,
     "hide_output_from_viewers":false,
     "report_properties":{
      
     }
    }
   }
  },
  {
   "cell_type":"markdown",
   "source":[
    "#### Queries & computations"
   ],
   "attachments":{
    
   },
   "metadata":{
    "datalore":{
     "node_id":"aIsRhIPe9e3pyg0JSTg05C",
     "type":"MD",
     "hide_input_from_viewers":false,
     "hide_output_from_viewers":false,
     "report_properties":{
      
     }
    }
   }
  },
  {
   "cell_type":"code",
   "source":[
    "query_est_comment_cnt = \"\"\"SELECT (reltuples \/ relpages * (pg_relation_size(oid) \/ 8192))::bigint\n",
    "FROM   pg_class\n",
    "WHERE  oid = 'youtube_comments'::regclass;\"\"\"\n",
    "\n",
    "est_comment_cnt = pd.read_sql_query(query_est_comment_cnt,con=conn)\n",
    "est_comment_cnt "
   ],
   "execution_count":null,
   "outputs":[
    
   ],
   "metadata":{
    "datalore":{
     "node_id":"T9UHd18LCoGNfFxiY7QNqx",
     "type":"CODE",
     "hide_input_from_viewers":true,
     "hide_output_from_viewers":true
    }
   }
  },
  {
   "cell_type":"code",
   "source":[
    "query_comment_cnt = \"select count(*) from youtube_comments\"\n",
    "\n",
    "comment_cnt = pd.read_sql_query(query_comment_cnt,con=conn)\n",
    "comment_cnt"
   ],
   "execution_count":21,
   "outputs":[
    {
     "data":{
      "text\/html":[
       "<div>\n",
       "<style scoped>\n",
       "    .dataframe tbody tr th:only-of-type {\n",
       "        vertical-align: middle;\n",
       "    }\n",
       "\n",
       "    .dataframe tbody tr th {\n",
       "        vertical-align: top;\n",
       "    }\n",
       "\n",
       "    .dataframe thead th {\n",
       "        text-align: right;\n",
       "    }\n",
       "<\/style>\n",
       "<table border=\"1\" class=\"dataframe\">\n",
       "  <thead>\n",
       "    <tr style=\"text-align: right;\">\n",
       "      <th><\/th>\n",
       "      <th>count<\/th>\n",
       "    <\/tr>\n",
       "  <\/thead>\n",
       "  <tbody>\n",
       "    <tr>\n",
       "      <th>0<\/th>\n",
       "      <td>8605619227<\/td>\n",
       "    <\/tr>\n",
       "  <\/tbody>\n",
       "<\/table>\n",
       "<\/div>"
      ]
     },
     "metadata":{
      
     },
     "output_type":"display_data"
    }
   ],
   "metadata":{
    "datalore":{
     "node_id":"sI4XFrcr7uUhbK4CPdcLJY",
     "type":"CODE",
     "hide_input_from_viewers":true,
     "hide_output_from_viewers":true
    }
   }
  },
  {
   "cell_type":"code",
   "source":[
    "query_politics_comments_cnt = \"select count(*) from video_metadata m, youtube_comments c where m.video_id=c.video_id and m.category_e='News & Politics';\"\n",
    "politics_comments_cnt = pd.read_sql_query(query_politics_comments_cnt,con=conn)\n",
    "politics_comments_cnt"
   ],
   "execution_count":23,
   "outputs":[
    {
     "data":{
      "text\/html":[
       "<div>\n",
       "<style scoped>\n",
       "    .dataframe tbody tr th:only-of-type {\n",
       "        vertical-align: middle;\n",
       "    }\n",
       "\n",
       "    .dataframe tbody tr th {\n",
       "        vertical-align: top;\n",
       "    }\n",
       "\n",
       "    .dataframe thead th {\n",
       "        text-align: right;\n",
       "    }\n",
       "<\/style>\n",
       "<table border=\"1\" class=\"dataframe\">\n",
       "  <thead>\n",
       "    <tr style=\"text-align: right;\">\n",
       "      <th><\/th>\n",
       "      <th>count<\/th>\n",
       "    <\/tr>\n",
       "  <\/thead>\n",
       "  <tbody>\n",
       "    <tr>\n",
       "      <th>0<\/th>\n",
       "      <td>413077730<\/td>\n",
       "    <\/tr>\n",
       "  <\/tbody>\n",
       "<\/table>\n",
       "<\/div>"
      ]
     },
     "metadata":{
      
     },
     "output_type":"display_data"
    }
   ],
   "metadata":{
    "datalore":{
     "node_id":"9820YSX9g58r6thLMNSHCN",
     "type":"CODE",
     "hide_input_from_viewers":true,
     "hide_output_from_viewers":true
    }
   }
  },
  {
   "cell_type":"code",
   "source":[
    "query_gaming_comments_cnt = \"select count(*) from video_metadata m, youtube_comments c where m.video_id=c.video_id and m.category_e='Gaming';\"\n",
    "gaming_comments_cnt = pd.read_sql_query(query_gaming_comments_cnt,con=conn)\n",
    "gaming_comments_cnt"
   ],
   "execution_count":24,
   "outputs":[
    {
     "data":{
      "text\/html":[
       "<div>\n",
       "<style scoped>\n",
       "    .dataframe tbody tr th:only-of-type {\n",
       "        vertical-align: middle;\n",
       "    }\n",
       "\n",
       "    .dataframe tbody tr th {\n",
       "        vertical-align: top;\n",
       "    }\n",
       "\n",
       "    .dataframe thead th {\n",
       "        text-align: right;\n",
       "    }\n",
       "<\/style>\n",
       "<table border=\"1\" class=\"dataframe\">\n",
       "  <thead>\n",
       "    <tr style=\"text-align: right;\">\n",
       "      <th><\/th>\n",
       "      <th>count<\/th>\n",
       "    <\/tr>\n",
       "  <\/thead>\n",
       "  <tbody>\n",
       "    <tr>\n",
       "      <th>0<\/th>\n",
       "      <td>2212472843<\/td>\n",
       "    <\/tr>\n",
       "  <\/tbody>\n",
       "<\/table>\n",
       "<\/div>"
      ]
     },
     "metadata":{
      
     },
     "output_type":"display_data"
    }
   ],
   "metadata":{
    "datalore":{
     "node_id":"P3nBVDhK5j87N3e1mtDtSw",
     "type":"CODE",
     "hide_input_from_viewers":true,
     "hide_output_from_viewers":true
    }
   }
  },
  {
   "cell_type":"code",
   "source":[
    "# takes a very long time\n",
    "query_cat_comment_cnt = \"select count(*),category_e from video_metadata vm inner join youtube_comments yc on yc.video_id = vm.video_id group by category_e;\"\n",
    "cat_comment_cnt = pd.read_sql_query(query_cat_comment_cnt,con=conn)\n",
    "cat_comment_cnt"
   ],
   "execution_count":56,
   "outputs":[
    {
     "ename":"KeyboardInterrupt",
     "evalue":"KeyboardInterrupt: ",
     "traceback":[
      "\u001b[0;31m---------------------------------------------------------------------------",
      "Traceback (most recent call last)",
      "    at line 2 in <module>",
      "    at line 436 in read_sql_query(sql, con, index_col, coerce_float, params, parse_dates, chunksize, dtype)",
      "    at line 2116 in read_query(self, sql, index_col, coerce_float, params, parse_dates, chunksize, dtype)",
      "    at line 2056 in execute(self, *args, **kwargs)",
      "    at line 15 in decode(input, errors)",
      "KeyboardInterrupt: "
     ],
     "output_type":"error"
    }
   ],
   "metadata":{
    "datalore":{
     "node_id":"zlcnzGXbGtBjlPHlMf5ZgA",
     "type":"CODE",
     "hide_input_from_viewers":true,
     "hide_output_from_viewers":true
    }
   }
  },
  {
   "cell_type":"code",
   "source":[
    "# Maybe this is faster but does not work very well\n",
    "var_query = \"select count(*) from video_metadata m, youtube_comments c where m.video_id=c.video_id and m.category_e=\"\n",
    "cat_comment_cnt = {e: pd.read_sql_query(var_query + \"'\" + e + \"'\",con=conn) for e in categories['unnest']}\n",
    "cat_comment_cnt = pd.DataFrame(cat_comment_cnt)\n",
    "cat_comment_cnt "
   ],
   "execution_count":13,
   "outputs":[
    {
     "ename":"KeyboardInterrupt",
     "evalue":"KeyboardInterrupt: ",
     "traceback":[
      "\u001b[0;31m---------------------------------------------------------------------------",
      "Traceback (most recent call last)",
      "    at line 2 in <module>",
      "    at line 2 in <dictcomp>(.0)",
      "    at line 436 in read_sql_query(sql, con, index_col, coerce_float, params, parse_dates, chunksize, dtype)",
      "    at line 2116 in read_query(self, sql, index_col, coerce_float, params, parse_dates, chunksize, dtype)",
      "    at line 2056 in execute(self, *args, **kwargs)",
      "    at line 15 in decode(input, errors)",
      "KeyboardInterrupt: "
     ],
     "output_type":"error"
    }
   ],
   "metadata":{
    "datalore":{
     "node_id":"WmSuCaAF7oYGWQGV9x7sjD",
     "type":"CODE",
     "hide_input_from_viewers":true,
     "hide_output_from_viewers":true
    }
   }
  },
  {
   "cell_type":"code",
   "source":[
    "query_gaming_comment_distr = \"select m.video_id, m.view_count, count(*) from video_metadata m, youtube_comments c where m.video_id=c.video_id and m.category_e='Gaming' group by m.video_id, m.view_count;\"\n",
    "gaming_comment_distr = pd.read_sql_query(query_gaming_comment_distr, con=conn)\n",
    "gaming_comment_distr"
   ],
   "execution_count":16,
   "outputs":[
    {
     "data":{
      "text\/html":[
       "<div>\n",
       "<style scoped>\n",
       "    .dataframe tbody tr th:only-of-type {\n",
       "        vertical-align: middle;\n",
       "    }\n",
       "\n",
       "    .dataframe tbody tr th {\n",
       "        vertical-align: top;\n",
       "    }\n",
       "\n",
       "    .dataframe thead th {\n",
       "        text-align: right;\n",
       "    }\n",
       "<\/style>\n",
       "<table border=\"1\" class=\"dataframe\">\n",
       "  <thead>\n",
       "    <tr style=\"text-align: right;\">\n",
       "      <th><\/th>\n",
       "      <th>video_id<\/th>\n",
       "      <th>view_count<\/th>\n",
       "      <th>count<\/th>\n",
       "    <\/tr>\n",
       "  <\/thead>\n",
       "  <tbody>\n",
       "    <tr>\n",
       "      <th>0<\/th>\n",
       "      <td>---3x4oEKwc<\/td>\n",
       "      <td>101722<\/td>\n",
       "      <td>192<\/td>\n",
       "    <\/tr>\n",
       "    <tr>\n",
       "      <th>1<\/th>\n",
       "      <td>---4x0R56gs<\/td>\n",
       "      <td>370183<\/td>\n",
       "      <td>1973<\/td>\n",
       "    <\/tr>\n",
       "    <tr>\n",
       "      <th>2<\/th>\n",
       "      <td>---5GiCcDc8<\/td>\n",
       "      <td>9426<\/td>\n",
       "      <td>47<\/td>\n",
       "    <\/tr>\n",
       "    <tr>\n",
       "      <th>3<\/th>\n",
       "      <td>---8boO9Yro<\/td>\n",
       "      <td>101773<\/td>\n",
       "      <td>221<\/td>\n",
       "    <\/tr>\n",
       "    <tr>\n",
       "      <th>4<\/th>\n",
       "      <td>---9fXPL4hg<\/td>\n",
       "      <td>161190<\/td>\n",
       "      <td>266<\/td>\n",
       "    <\/tr>\n",
       "    <tr>\n",
       "      <th>...<\/th>\n",
       "      <td>...<\/td>\n",
       "      <td>...<\/td>\n",
       "      <td>...<\/td>\n",
       "    <\/tr>\n",
       "    <tr>\n",
       "      <th>5507956<\/th>\n",
       "      <td>zzze5NYtzYk<\/td>\n",
       "      <td>118331<\/td>\n",
       "      <td>405<\/td>\n",
       "    <\/tr>\n",
       "    <tr>\n",
       "      <th>5507957<\/th>\n",
       "      <td>zzzjubCIkAo<\/td>\n",
       "      <td>164354<\/td>\n",
       "      <td>184<\/td>\n",
       "    <\/tr>\n",
       "    <tr>\n",
       "      <th>5507958<\/th>\n",
       "      <td>zzznQgVW_-E<\/td>\n",
       "      <td>159596<\/td>\n",
       "      <td>525<\/td>\n",
       "    <\/tr>\n",
       "    <tr>\n",
       "      <th>5507959<\/th>\n",
       "      <td>zzzv8q_p7uM<\/td>\n",
       "      <td>36786<\/td>\n",
       "      <td>82<\/td>\n",
       "    <\/tr>\n",
       "    <tr>\n",
       "      <th>5507960<\/th>\n",
       "      <td>zzzwgutdaJw<\/td>\n",
       "      <td>72956<\/td>\n",
       "      <td>187<\/td>\n",
       "    <\/tr>\n",
       "  <\/tbody>\n",
       "<\/table>\n",
       "<p>5507961 rows × 3 columns<\/p>\n",
       "<\/div>"
      ]
     },
     "metadata":{
      
     },
     "output_type":"display_data"
    }
   ],
   "metadata":{
    "datalore":{
     "node_id":"whGUSeRp2iv35dbX12DUsQ",
     "type":"CODE",
     "hide_input_from_viewers":true,
     "hide_output_from_viewers":true
    }
   }
  },
  {
   "cell_type":"code",
   "source":[
    "query_politics_comment_distr = \"select m.video_id, m.view_count, count(*) from video_metadata m, youtube_comments c where m.video_id=c.video_id and m.category_e='News & Politics' group by m.video_id, m.view_count;\"\n",
    "politics_comment_distr= pd.read_sql_query(query_politics_comment_distr,con=conn)\n",
    "politics_comment_distr"
   ],
   "execution_count":17,
   "outputs":[
    {
     "data":{
      "text\/html":[
       "<div>\n",
       "<style scoped>\n",
       "    .dataframe tbody tr th:only-of-type {\n",
       "        vertical-align: middle;\n",
       "    }\n",
       "\n",
       "    .dataframe tbody tr th {\n",
       "        vertical-align: top;\n",
       "    }\n",
       "\n",
       "    .dataframe thead th {\n",
       "        text-align: right;\n",
       "    }\n",
       "<\/style>\n",
       "<table border=\"1\" class=\"dataframe\">\n",
       "  <thead>\n",
       "    <tr style=\"text-align: right;\">\n",
       "      <th><\/th>\n",
       "      <th>video_id<\/th>\n",
       "      <th>view_count<\/th>\n",
       "      <th>count<\/th>\n",
       "    <\/tr>\n",
       "  <\/thead>\n",
       "  <tbody>\n",
       "    <tr>\n",
       "      <th>0<\/th>\n",
       "      <td>5t2dBYaknpQ<\/td>\n",
       "      <td>6461.0<\/td>\n",
       "      <td>51<\/td>\n",
       "    <\/tr>\n",
       "    <tr>\n",
       "      <th>1<\/th>\n",
       "      <td>r_tbBKTjEmI<\/td>\n",
       "      <td>8326.0<\/td>\n",
       "      <td>58<\/td>\n",
       "    <\/tr>\n",
       "    <tr>\n",
       "      <th>2<\/th>\n",
       "      <td>IiNpZpwG85E<\/td>\n",
       "      <td>483022.0<\/td>\n",
       "      <td>381<\/td>\n",
       "    <\/tr>\n",
       "    <tr>\n",
       "      <th>3<\/th>\n",
       "      <td>jIfVh1UvSYQ<\/td>\n",
       "      <td>7064.0<\/td>\n",
       "      <td>64<\/td>\n",
       "    <\/tr>\n",
       "    <tr>\n",
       "      <th>4<\/th>\n",
       "      <td>IZ0RvvNyFhU<\/td>\n",
       "      <td>1233.0<\/td>\n",
       "      <td>34<\/td>\n",
       "    <\/tr>\n",
       "    <tr>\n",
       "      <th>...<\/th>\n",
       "      <td>...<\/td>\n",
       "      <td>...<\/td>\n",
       "      <td>...<\/td>\n",
       "    <\/tr>\n",
       "    <tr>\n",
       "      <th>1155248<\/th>\n",
       "      <td>8khe-n5lI-4<\/td>\n",
       "      <td>17918.0<\/td>\n",
       "      <td>220<\/td>\n",
       "    <\/tr>\n",
       "    <tr>\n",
       "      <th>1155249<\/th>\n",
       "      <td>NE1f1vfaZDI<\/td>\n",
       "      <td>13031.0<\/td>\n",
       "      <td>176<\/td>\n",
       "    <\/tr>\n",
       "    <tr>\n",
       "      <th>1155250<\/th>\n",
       "      <td>9U4ZvTLp108<\/td>\n",
       "      <td>5786.0<\/td>\n",
       "      <td>75<\/td>\n",
       "    <\/tr>\n",
       "    <tr>\n",
       "      <th>1155251<\/th>\n",
       "      <td>O-NfPavSoaE<\/td>\n",
       "      <td>16928.0<\/td>\n",
       "      <td>124<\/td>\n",
       "    <\/tr>\n",
       "    <tr>\n",
       "      <th>1155252<\/th>\n",
       "      <td>V_iMU0vO0uA<\/td>\n",
       "      <td>154622.0<\/td>\n",
       "      <td>760<\/td>\n",
       "    <\/tr>\n",
       "  <\/tbody>\n",
       "<\/table>\n",
       "<p>1155253 rows × 3 columns<\/p>\n",
       "<\/div>"
      ]
     },
     "metadata":{
      
     },
     "output_type":"display_data"
    }
   ],
   "metadata":{
    "datalore":{
     "node_id":"bo36JG8CbUzx2kAIMFaJTm",
     "type":"CODE",
     "hide_input_from_viewers":true,
     "hide_output_from_viewers":true
    }
   }
  },
  {
   "cell_type":"code",
   "source":[
    "# variables computation from dataframe\n",
    "nb_comments = comment_cnt[\"count\"][0]\n",
    "nb_politics_comments = politics_comments_cnt[\"count\"][0]\n",
    "nb_gaming_comments = gaming_comments_cnt[\"count\"][0]"
   ],
   "execution_count":25,
   "outputs":[
    
   ],
   "metadata":{
    "datalore":{
     "node_id":"ETmASsPupkBwkkzgZi1BkL",
     "type":"CODE",
     "hide_input_from_viewers":true,
     "hide_output_from_viewers":true
    }
   }
  },
  {
   "cell_type":"markdown",
   "source":[
    "#### Results"
   ],
   "attachments":{
    
   },
   "metadata":{
    "datalore":{
     "node_id":"DKWbfjVdVdTscGRnSjGBL2",
     "type":"MD",
     "hide_input_from_viewers":false,
     "hide_output_from_viewers":false,
     "report_properties":{
      
     }
    }
   }
  },
  {
   "cell_type":"code",
   "source":[
    "print(f'There are {nb_comments} comments in the databse')\n",
    "print(f'{nb_gaming_comments \/ nb_comments * 100:.2f}% of them are on gaming videos ({nb_gaming_comments} comments)')\n",
    "print(f'{nb_politics_comments \/ nb_comments * 100:.2f}% of them are on news\/politics videos ({nb_politics_comments} comments)')"
   ],
   "execution_count":26,
   "outputs":[
    {
     "name":"stdout",
     "text":[
      "There are 8605619227 comments in the databse\n",
      "25.71% of them are on gaming videos (2212472843 comments)\n",
      "4.80% of them are on news\/politics videos (413077730 comments)\n"
     ],
     "output_type":"stream"
    }
   ],
   "metadata":{
    "datalore":{
     "node_id":"yEZlSthKxJIoWsQ7fvo4pR",
     "type":"CODE",
     "hide_input_from_viewers":false,
     "hide_output_from_viewers":false,
     "report_properties":{
      
     }
    }
   }
  },
  {
   "cell_type":"code",
   "source":[
    "print(f'News\/politics videos get {politics_comment_distr[\"count\"].mean()} comments on average --> see graph for full distribution')\n",
    "print(f'Gaming videos get {gaming_comment_distr[\"count\"].mean()} comments on average --> see graph for full distribution')"
   ],
   "execution_count":27,
   "outputs":[
    {
     "name":"stdout",
     "text":[
      "News\/politics videos get 357.5647325737306 comments on average --> see graph for full distribution\n",
      "Gaming videos get 401.68636687877785 comments on average --> see graph for full distribution\n"
     ],
     "output_type":"stream"
    }
   ],
   "metadata":{
    "datalore":{
     "node_id":"EwkhgtbnMQJyUEGrphBBP9",
     "type":"CODE",
     "hide_input_from_viewers":false,
     "hide_output_from_viewers":false,
     "report_properties":{
      
     }
    }
   }
  },
  {
   "cell_type":"code",
   "source":[
    "print(f'News\/politics videos get an average of {(politics_comment_distr[\"count\"]\/politics_comment_distr[\"view_count\"]).mean()} comments per view --> see graph for full distribution')\n",
    "print(f'Gaming videos get an average of {(gaming_comment_distr[\"count\"]\/gaming_comment_distr[\"view_count\"]).mean()} comments per view --> see graph for full distribution')"
   ],
   "execution_count":28,
   "outputs":[
    {
     "name":"stdout",
     "text":[
      "News\/politics videos get an average of 0.010462540855331793 comments per view --> see graph for full distribution\n",
      "Gaming videos get an average of 0.00937300321830982 comments per view --> see graph for full distribution\n"
     ],
     "output_type":"stream"
    }
   ],
   "metadata":{
    "datalore":{
     "node_id":"Gxex1z73DwI8fqI8Y9fXX0",
     "type":"CODE",
     "hide_input_from_viewers":false,
     "hide_output_from_viewers":false,
     "report_properties":{
      
     }
    }
   }
  },
  {
   "cell_type":"markdown",
   "source":[
    "#### Graphs"
   ],
   "attachments":{
    
   },
   "metadata":{
    "datalore":{
     "node_id":"WifpTI7YQ04b2zKBGrBcgL",
     "type":"MD",
     "hide_input_from_viewers":false,
     "hide_output_from_viewers":false,
     "report_properties":{
      
     }
    }
   }
  },
  {
   "cell_type":"code",
   "source":[
    "gaming_comment_distr[\"count\"].hist(bins = 50)\n",
    "plt.yscale('log')\n",
    "plt.xlabel(\"Number of comments\")\n",
    "plt.ylabel(\"Number of videos (logscale)\")\n",
    "plt.title(\"Distribution of gaming comments\")\n",
    "plt.show()"
   ],
   "execution_count":29,
   "outputs":[
    {
     "data":{
      "image\/png":"[encoded data removed]"
     },
     "metadata":{
      "image\/png":{
       
      }
     },
     "output_type":"display_data"
    }
   ],
   "metadata":{
    "datalore":{
     "node_id":"3W22ma5zcPGgsaMe9CxB45",
     "type":"CODE",
     "hide_input_from_viewers":true,
     "hide_output_from_viewers":true
    }
   }
  },
  {
   "cell_type":"code",
   "source":[
    "politics_comment_distr[\"count\"].hist(bins = 50)\n",
    "plt.yscale('log')\n",
    "plt.xlabel(\"Number of comments\")\n",
    "plt.ylabel(\"Number of videos (logscale)\")\n",
    "plt.title(\"Distribution of politics comments\")\n",
    "plt.show()"
   ],
   "execution_count":30,
   "outputs":[
    {
     "data":{
      "image\/png":"[encoded data removed]"
     },
     "metadata":{
      "image\/png":{
       
      }
     },
     "output_type":"display_data"
    }
   ],
   "metadata":{
    "datalore":{
     "node_id":"H4aYLUGgTh9MSiWb1wDeAt",
     "type":"CODE",
     "hide_input_from_viewers":true,
     "hide_output_from_viewers":true
    }
   }
  },
  {
   "cell_type":"markdown",
   "source":[
    "### Viewer (commenter) statistics"
   ],
   "attachments":{
    
   },
   "metadata":{
    "datalore":{
     "node_id":"o2020KxRHJbEObE7h3EP88",
     "type":"MD",
     "hide_input_from_viewers":false,
     "hide_output_from_viewers":false,
     "report_properties":{
      
     }
    }
   }
  },
  {
   "cell_type":"markdown",
   "source":[
    "#### Queries and computations"
   ],
   "attachments":{
    
   },
   "metadata":{
    "datalore":{
     "node_id":"Pzc4G2qnpnEmINNbwKkXMl",
     "type":"MD",
     "hide_input_from_viewers":false,
     "hide_output_from_viewers":false,
     "report_properties":{
      
     }
    }
   }
  },
  {
   "cell_type":"code",
   "source":[
    "query_commenter_cnt = \"select count(*) from (select distinct author from youtube_comments) a;\"\n",
    "\n",
    "commenter_cnt = pd.read_sql_query(query_commenter_cnt,con=conn)\n",
    "commenter_cnt"
   ],
   "execution_count":31,
   "outputs":[
    {
     "data":{
      "text\/html":[
       "<div>\n",
       "<style scoped>\n",
       "    .dataframe tbody tr th:only-of-type {\n",
       "        vertical-align: middle;\n",
       "    }\n",
       "\n",
       "    .dataframe tbody tr th {\n",
       "        vertical-align: top;\n",
       "    }\n",
       "\n",
       "    .dataframe thead th {\n",
       "        text-align: right;\n",
       "    }\n",
       "<\/style>\n",
       "<table border=\"1\" class=\"dataframe\">\n",
       "  <thead>\n",
       "    <tr style=\"text-align: right;\">\n",
       "      <th><\/th>\n",
       "      <th>count<\/th>\n",
       "    <\/tr>\n",
       "  <\/thead>\n",
       "  <tbody>\n",
       "    <tr>\n",
       "      <th>0<\/th>\n",
       "      <td>448810483<\/td>\n",
       "    <\/tr>\n",
       "  <\/tbody>\n",
       "<\/table>\n",
       "<\/div>"
      ]
     },
     "metadata":{
      
     },
     "output_type":"display_data"
    }
   ],
   "metadata":{
    "datalore":{
     "node_id":"Z3l6r6dqDvmLd6p68WUUYm",
     "type":"CODE",
     "hide_input_from_viewers":true,
     "hide_output_from_viewers":true
    }
   }
  },
  {
   "cell_type":"code",
   "source":[
    "query_politics_channel_commenter_cnt = \"\"\"select count(distinct author) from youtube_comments comments inner join\n",
    "(select video_id, channel_id from video_metadata) videos\n",
    "on videos.video_id = comments.video_id\n",
    "inner join (select channel from df_channels_en where category_e = 'News & Politics') politics\n",
    "on videos.channel_id = politics.channel;\"\"\"\n",
    "politics_channel_commenter_cnt = pd.read_sql_query(query_politics_channel_commenter_cnt,con=conn)\n",
    "politics_channel_commenter_cnt"
   ],
   "execution_count":35,
   "outputs":[
    {
     "data":{
      "text\/html":[
       "<div>\n",
       "<style scoped>\n",
       "    .dataframe tbody tr th:only-of-type {\n",
       "        vertical-align: middle;\n",
       "    }\n",
       "\n",
       "    .dataframe tbody tr th {\n",
       "        vertical-align: top;\n",
       "    }\n",
       "\n",
       "    .dataframe thead th {\n",
       "        text-align: right;\n",
       "    }\n",
       "<\/style>\n",
       "<table border=\"1\" class=\"dataframe\">\n",
       "  <thead>\n",
       "    <tr style=\"text-align: right;\">\n",
       "      <th><\/th>\n",
       "      <th>count<\/th>\n",
       "    <\/tr>\n",
       "  <\/thead>\n",
       "  <tbody>\n",
       "    <tr>\n",
       "      <th>0<\/th>\n",
       "      <td>38884761<\/td>\n",
       "    <\/tr>\n",
       "  <\/tbody>\n",
       "<\/table>\n",
       "<\/div>"
      ]
     },
     "metadata":{
      
     },
     "output_type":"display_data"
    }
   ],
   "metadata":{
    "datalore":{
     "node_id":"TXov3BsKPGvYBG8lcHqok4",
     "type":"CODE",
     "hide_input_from_viewers":true,
     "hide_output_from_viewers":true
    }
   }
  },
  {
   "cell_type":"code",
   "source":[
    "query_gaming_channel_commenter_cnt = \"\"\"select count(distinct author) from youtube_comments comments inner join\n",
    "(select video_id, channel_id from video_metadata) videos\n",
    "on videos.video_id = comments.video_id\n",
    "inner join (select channel from df_channels_en where category_e = 'Gaming') gaming\n",
    "on videos.channel_id = gaming.channel\"\"\"\n",
    "gaming_channel_commenter_cnt = pd.read_sql_query(query_gaming_channel_commenter_cnt,con=conn)\n",
    "gaming_channel_commenter_cnt"
   ],
   "execution_count":36,
   "outputs":[
    {
     "data":{
      "text\/html":[
       "<div>\n",
       "<style scoped>\n",
       "    .dataframe tbody tr th:only-of-type {\n",
       "        vertical-align: middle;\n",
       "    }\n",
       "\n",
       "    .dataframe tbody tr th {\n",
       "        vertical-align: top;\n",
       "    }\n",
       "\n",
       "    .dataframe thead th {\n",
       "        text-align: right;\n",
       "    }\n",
       "<\/style>\n",
       "<table border=\"1\" class=\"dataframe\">\n",
       "  <thead>\n",
       "    <tr style=\"text-align: right;\">\n",
       "      <th><\/th>\n",
       "      <th>count<\/th>\n",
       "    <\/tr>\n",
       "  <\/thead>\n",
       "  <tbody>\n",
       "    <tr>\n",
       "      <th>0<\/th>\n",
       "      <td>136168117<\/td>\n",
       "    <\/tr>\n",
       "  <\/tbody>\n",
       "<\/table>\n",
       "<\/div>"
      ]
     },
     "metadata":{
      
     },
     "output_type":"display_data"
    }
   ],
   "metadata":{
    "datalore":{
     "node_id":"y1gwRTUs5ZZ7fUW07PcvOy",
     "type":"CODE",
     "hide_input_from_viewers":true,
     "hide_output_from_viewers":true
    }
   }
  },
  {
   "cell_type":"code",
   "source":[
    "query_gaming_video_commenter_cnt = \"\"\"select count(distinct author) from youtube_comments comments inner join\n",
    "(select video_id, category_e from video_metadata where category_e = 'Gaming') videos\n",
    "on videos.video_id = comments.video_id\"\"\"\n",
    "gaming_video_commenter_cnt = pd.read_sql_query(query_gaming_video_commenter_cnt,con=conn)\n",
    "gaming_video_commenter_cnt"
   ],
   "execution_count":37,
   "outputs":[
    {
     "data":{
      "text\/html":[
       "<div>\n",
       "<style scoped>\n",
       "    .dataframe tbody tr th:only-of-type {\n",
       "        vertical-align: middle;\n",
       "    }\n",
       "\n",
       "    .dataframe tbody tr th {\n",
       "        vertical-align: top;\n",
       "    }\n",
       "\n",
       "    .dataframe thead th {\n",
       "        text-align: right;\n",
       "    }\n",
       "<\/style>\n",
       "<table border=\"1\" class=\"dataframe\">\n",
       "  <thead>\n",
       "    <tr style=\"text-align: right;\">\n",
       "      <th><\/th>\n",
       "      <th>count<\/th>\n",
       "    <\/tr>\n",
       "  <\/thead>\n",
       "  <tbody>\n",
       "    <tr>\n",
       "      <th>0<\/th>\n",
       "      <td>134928674<\/td>\n",
       "    <\/tr>\n",
       "  <\/tbody>\n",
       "<\/table>\n",
       "<\/div>"
      ]
     },
     "metadata":{
      
     },
     "output_type":"display_data"
    }
   ],
   "metadata":{
    "datalore":{
     "node_id":"KNEi02uBhfG7BlqMMOZa96",
     "type":"CODE",
     "hide_input_from_viewers":true,
     "hide_output_from_viewers":true
    }
   }
  },
  {
   "cell_type":"code",
   "source":[
    "query_politics_video_commenter_cnt = \"\"\"select count(distinct author) from youtube_comments comments inner join\n",
    "(select video_id, category_e from video_metadata where category_e = 'News & Politics') videos\n",
    "on videos.video_id = comments.video_id\"\"\"\n",
    "politics_video_commenter_cnt = pd.read_sql_query(query_politics_video_commenter_cnt,con=conn)\n",
    "politics_video_commenter_cnt"
   ],
   "execution_count":null,
   "outputs":[
    
   ],
   "metadata":{
    "datalore":{
     "node_id":"8ae9S93pPZIgBAZnWLAjPo",
     "type":"CODE",
     "hide_input_from_viewers":true,
     "hide_output_from_viewers":true
    }
   }
  },
  {
   "cell_type":"code",
   "source":[
    "# variables computation from dataframe\n",
    "nb_commenters = commenter_cnt[\"count\"][0]\n",
    "nb_politics_video_commenters = politics_video_commenter_cnt[\"count\"][0]\n",
    "nb_gaming_video_commenters = gaming_video_commenter_cnt[\"count\"][0]\n",
    "nb_politics_channel_commenters = politics_channel_commenter_cnt[\"count\"][0]\n",
    "nb_gaming_channel_commenters = gaming_channel_commenter_cnt[\"count\"][0]"
   ],
   "execution_count":null,
   "outputs":[
    
   ],
   "metadata":{
    "datalore":{
     "node_id":"fVkHNzoqDffDdfnixTeaNP",
     "type":"CODE",
     "hide_input_from_viewers":false,
     "hide_output_from_viewers":false,
     "report_properties":{
      
     }
    }
   }
  },
  {
   "cell_type":"markdown",
   "source":[
    "#### Results"
   ],
   "attachments":{
    
   },
   "metadata":{
    "datalore":{
     "node_id":"jFupZDkaOC70Elc3L2MKlc",
     "type":"MD",
     "hide_input_from_viewers":false,
     "hide_output_from_viewers":false,
     "report_properties":{
      
     }
    }
   }
  },
  {
   "cell_type":"code",
   "source":[
    "print(f'There are {nb_commenters} unique commenters')\n",
    "print(f'{(nb_politics_video_commenters \/ nb_commenters)*100:.2f}% of them commented on a news\/politics video ({nb_politics_video_commenters} viewers)')\n",
    "print(f'{(nb_gaming_video_commenters \/ nb_commenters)*100:.2f}% of them commented on a gaming video ({nb_gaming_video_commenters} viewers)')\n",
    "print(f'{(nb_politics_channel_commenters \/ nb_commenters)*100:.2f}% of them commented on a video from a news\/politics channel ({nb_politics_channel_commenters} viewers)')\n",
    "print(f'{(nb_gaming_channel_commenters \/ nb_commenters)*100:.2f}% of them commented on a video from a gaming channel ({nb_gaming_channel_commenters} viewers)')"
   ],
   "execution_count":33,
   "outputs":[
    {
     "ename":"NameError",
     "evalue":"NameError: name 'nb_commenters' is not defined",
     "traceback":[
      "\u001b[0;31m---------------------------------------------------------------------------",
      "Traceback (most recent call last)",
      "    at line 1 in <module>",
      "NameError: name 'nb_commenters' is not defined"
     ],
     "output_type":"error"
    }
   ],
   "metadata":{
    "datalore":{
     "node_id":"B59tPjhHtm382MJhfoYRQ7",
     "type":"CODE",
     "hide_input_from_viewers":false,
     "hide_output_from_viewers":false,
     "report_properties":{
      
     }
    }
   }
  },
  {
   "cell_type":"code",
   "source":[
    "#These queries will probalby turn out quite expensive which is why we left them out for now\n",
    "print(f'{}% of them commented on both ({} viewers)')\n",
    "print(f'{}% of them only comment on gaming channels ({} viewers)')\n",
    "print(f'{}% of them only comment on news\/politics channels ({} viewers)')"
   ],
   "execution_count":null,
   "outputs":[
    
   ],
   "metadata":{
    "datalore":{
     "node_id":"LQPEBmbLy6HqormX51rQ4T",
     "type":"CODE",
     "hide_input_from_viewers":false,
     "hide_output_from_viewers":false,
     "report_properties":{
      
     }
    }
   }
  },
  {
   "cell_type":"code",
   "source":[
    "#These queries will probably turn out to be quite expensive which is why we left them out for now\n",
    "print('Restricted to gaming and news\/politics videos : ')\n",
    "print(f'A commenter posts {} comments on average --> see graphs for full distribution')\n",
    "print(f'A commenter posts on {} different channels on average --> see graph for full distribution')"
   ],
   "execution_count":null,
   "outputs":[
    
   ],
   "metadata":{
    "datalore":{
     "node_id":"drPuLrvIsVbdjWUrYbRQPy",
     "type":"CODE",
     "hide_input_from_viewers":false,
     "hide_output_from_viewers":false,
     "report_properties":{
      
     }
    }
   }
  },
  {
   "cell_type":"markdown",
   "source":[
    "#### Graphs"
   ],
   "attachments":{
    
   },
   "metadata":{
    "datalore":{
     "node_id":"sZoOIuhLKu1NKPvt1z0kEy",
     "type":"MD",
     "hide_input_from_viewers":false,
     "hide_output_from_viewers":false,
     "report_properties":{
      
     }
    }
   }
  },
  {
   "cell_type":"code",
   "source":[
    
   ],
   "execution_count":null,
   "outputs":[
    
   ],
   "metadata":{
    "datalore":{
     "node_id":"lifRWuhkZrWLYdqWytMUQH",
     "type":"CODE",
     "hide_input_from_viewers":false,
     "hide_output_from_viewers":false,
     "report_properties":{
      
     }
    }
   }
  }
 ],
 "metadata":{
  "kernelspec":{
   "display_name":"Python",
   "language":"python",
   "name":"python"
  },
  "datalore":{
   "version":1,
   "computation_mode":"JUPYTER",
   "package_manager":"pip",
   "base_environment":"default",
   "packages":[
    {
     "name":"sshtunnel",
     "version":"0.4.0",
     "source":"PIP"
    }
   ]
  }
 },
 "nbformat":4,
 "nbformat_minor":4
}